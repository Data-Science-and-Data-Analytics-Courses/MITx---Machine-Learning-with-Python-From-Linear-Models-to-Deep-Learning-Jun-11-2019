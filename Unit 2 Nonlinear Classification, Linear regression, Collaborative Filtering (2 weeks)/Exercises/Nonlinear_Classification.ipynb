{
  "nbformat": 4,
  "nbformat_minor": 0,
  "metadata": {
    "colab": {
      "name": "Nonlinear_Classification.ipynb",
      "version": "0.3.2",
      "provenance": [],
      "collapsed_sections": [],
      "include_colab_link": true
    },
    "kernelspec": {
      "name": "python3",
      "display_name": "Python 3"
    },
    "accelerator": "GPU"
  },
  "cells": [
    {
      "cell_type": "markdown",
      "metadata": {
        "id": "view-in-github",
        "colab_type": "text"
      },
      "source": [
        "<a href=\"https://colab.research.google.com/github/Data-Science-and-Data-Analytics-Courses/MITx---Machine-Learning-with-Python-From-Linear-Models-to-Deep-Learning-Jun-11-2019/blob/master/Unit%202%20Nonlinear%20Classification%2C%20Linear%20regression%2C%20Collaborative%20Filtering%20(2%20weeks)/Exercises/Nonlinear_Classification.ipynb\" target=\"_parent\"><img src=\"https://colab.research.google.com/assets/colab-badge.svg\" alt=\"Open In Colab\"/></a>"
      ]
    },
    {
      "cell_type": "markdown",
      "metadata": {
        "id": "-jKf749g6256",
        "colab_type": "text"
      },
      "source": [
        "# Nonlinear Classification\n",
        "\n",
        "---\n",
        "\n"
      ]
    },
    {
      "cell_type": "markdown",
      "metadata": {
        "id": "fDXChezQ-Rf2",
        "colab_type": "text"
      },
      "source": [
        "## Packages and libraries"
      ]
    },
    {
      "cell_type": "code",
      "metadata": {
        "id": "gOi005Iv-bgT",
        "colab_type": "code",
        "colab": {}
      },
      "source": [
        "import numpy as np\n",
        "from scipy.special import comb"
      ],
      "execution_count": 0,
      "outputs": []
    },
    {
      "cell_type": "markdown",
      "metadata": {
        "id": "iqLytmo1oiUL",
        "colab_type": "text"
      },
      "source": [
        "## Counting Dimensions of Feature Vectors\n",
        "Let  x∈R150,  i.e.  x=[x1,x2,...,x150]T  where  xi  is the  i -th component of  x . Let  ϕ(x)  be an order  3  polynomial feature vector. This means, for example,  ϕ(x)  can be\n",
        "\n",
        "$$\n",
        "\\displaystyle  \\phi (x) = \\big [\\underbrace{x_1, ..., x_ i, ..., x_{150}}_{{\\color{blue}{\\text {deg 1}}} }, \\underbrace{x_1^2, x_1x_2, ..., x_ i x_ j,... {x_{150}}^2}_{{\\color{blue}{\\text {deg 2}}} }, \\underbrace{{x_1}^3, {x_1}^2 x_2, ..., x_ i x_ j x_ k, ..., {x_{150}}^3}_{{\\color{blue}{\\text {deg 3}}} } \\big ]\\qquad \\text {where }\\,  1\\leq i\\leq j\\leq k\\leq 150.\n",
        "$$\n",
        "\n",
        "Note that the components of  ϕ(x)  forms a basis of the space of all polynomials with zero constant term and of degree at most  3 .\n",
        "\n",
        "What is the dimension of the space that  ϕ(x)  lives in? That is,  ϕ(x)∈Rd  for what  d ?\n",
        "\n",
        "Hint: The number of ways to select a multiset of  k  non-unique items from  n  total is  $\\displaystyle {n + k - 1 \\choose k}$ . For example, if a ball can be any of 3 colors, then the number of color configurations of 2 balls is  $\\displaystyle {3+2-1 \\choose 2}={4 \\choose 2}=6$ ."
      ]
    },
    {
      "cell_type": "code",
      "metadata": {
        "id": "CZ8DeRrQTkEz",
        "colab_type": "code",
        "colab": {
          "base_uri": "https://localhost:8080/",
          "height": 34
        },
        "outputId": "c8d5d66f-a1fe-4958-c018-db57a5a013a9"
      },
      "source": [
        "n = 150\n",
        "ks = np.array([1, 2, 3])\n",
        "np.sum(comb(n, ks, repetition=True))"
      ],
      "execution_count": 45,
      "outputs": [
        {
          "output_type": "execute_result",
          "data": {
            "text/plain": [
              "585275.0"
            ]
          },
          "metadata": {
            "tags": []
          },
          "execution_count": 45
        }
      ]
    }
  ]
}