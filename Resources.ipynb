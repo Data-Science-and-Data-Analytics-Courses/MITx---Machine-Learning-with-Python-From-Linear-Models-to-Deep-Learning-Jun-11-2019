{
  "nbformat": 4,
  "nbformat_minor": 0,
  "metadata": {
    "colab": {
      "name": "Resources.ipynb",
      "version": "0.3.2",
      "provenance": [],
      "collapsed_sections": [],
      "include_colab_link": true
    },
    "kernelspec": {
      "name": "python3",
      "display_name": "Python 3"
    },
    "accelerator": "GPU"
  },
  "cells": [
    {
      "cell_type": "markdown",
      "metadata": {
        "id": "view-in-github",
        "colab_type": "text"
      },
      "source": [
        "<a href=\"https://colab.research.google.com/github/Data-Science-and-Data-Analytics-Courses/MITx---Machine-Learning-with-Python-From-Linear-Models-to-Deep-Learning-Jun-11-2019/blob/master/Resources.ipynb\" target=\"_parent\"><img src=\"https://colab.research.google.com/assets/colab-badge.svg\" alt=\"Open In Colab\"/></a>"
      ]
    },
    {
      "cell_type": "markdown",
      "metadata": {
        "id": "fRrOetKsg-RC",
        "colab_type": "text"
      },
      "source": [
        "# Resources\n",
        "\n",
        "---\n",
        "\n"
      ]
    },
    {
      "cell_type": "markdown",
      "metadata": {
        "colab_type": "text",
        "id": "NFlCab3fJ3Gf"
      },
      "source": [
        "## Setup"
      ]
    },
    {
      "cell_type": "code",
      "metadata": {
        "colab_type": "code",
        "outputId": "9b024f1c-8f67-49de-fc2f-8f912282160a",
        "id": "XrUFzhpR7pOZ",
        "colab": {
          "base_uri": "https://localhost:8080/",
          "height": 51
        }
      },
      "source": [
        "import os, sys\n",
        "from pathlib import Path\n",
        "from google.colab import drive\n",
        "\n",
        "# Drive\n",
        "DRIVE = Path(\"/drive\", \"My Drive\")\n",
        "drive.mount(DRIVE.parent.as_posix())\n",
        "CONFILE_GIT = DRIVE / \"GitHub/config.json\" # path to GitHub configuration file\n",
        "AUTHFILE_GIT = DRIVE / \"GitHub/login.json\" # path to GitHub authentication file\n",
        "\n",
        "# Notebook Library\n",
        "url = \"https://github.com/Data-Science-and-Data-Analytics-Courses/Notebook-Library\"\n",
        "repo = Path(\"/nblib\")\n",
        "!git clone \"{url}\" \"{repo}\"\n",
        "if repo.parent.as_posix() not in sys.path:\n",
        "  sys.path.append(repo.parent.as_posix())\n",
        "%run \"{repo}/.Importable.ipynb\"\n",
        "\n",
        "from nblib import Git\n",
        "# Remote\n",
        "URL = \"https://github.com/Data-Science-and-Data-Analytics-Courses/MITx---Machine-Learning-with-Python-From-Linear-Models-to-Deep-Learning-Jun-11-2019\"\n",
        "REPO = Git.clone(URL, dest=\"/content\")\n",
        "if REPO.as_posix() not in sys.path:\n",
        "  sys.path.append(REPO.as_posix())\n",
        "\n",
        "# Working directory\n",
        "NBDIR = REPO\n",
        "os.chdir(NBDIR)\n",
        "\n",
        "%run \"{REPO}/setup/Setup.ipynb\"\n",
        "from nblib import File"
      ],
      "execution_count": 19,
      "outputs": [
        {
          "output_type": "stream",
          "text": [
            "Drive already mounted at /drive; to attempt to forcibly remount, call drive.mount(\"/drive\", force_remount=True).\n",
            "fatal: destination path '/nblib' already exists and is not an empty directory.\n"
          ],
          "name": "stdout"
        },
        {
          "output_type": "display_data",
          "data": {
            "text/html": [
              "\n",
              "<style type='text/css'>\n",
              ".hll { background-color: #ffffcc }\n",
              ".c { color: #408080; font-style: italic } /* Comment */\n",
              ".err { border: 1px solid #FF0000 } /* Error */\n",
              ".k { color: #008000; font-weight: bold } /* Keyword */\n",
              ".o { color: #666666 } /* Operator */\n",
              ".ch { color: #408080; font-style: italic } /* Comment.Hashbang */\n",
              ".cm { color: #408080; font-style: italic } /* Comment.Multiline */\n",
              ".cp { color: #BC7A00 } /* Comment.Preproc */\n",
              ".cpf { color: #408080; font-style: italic } /* Comment.PreprocFile */\n",
              ".c1 { color: #408080; font-style: italic } /* Comment.Single */\n",
              ".cs { color: #408080; font-style: italic } /* Comment.Special */\n",
              ".gd { color: #A00000 } /* Generic.Deleted */\n",
              ".ge { font-style: italic } /* Generic.Emph */\n",
              ".gr { color: #FF0000 } /* Generic.Error */\n",
              ".gh { color: #000080; font-weight: bold } /* Generic.Heading */\n",
              ".gi { color: #00A000 } /* Generic.Inserted */\n",
              ".go { color: #888888 } /* Generic.Output */\n",
              ".gp { color: #000080; font-weight: bold } /* Generic.Prompt */\n",
              ".gs { font-weight: bold } /* Generic.Strong */\n",
              ".gu { color: #800080; font-weight: bold } /* Generic.Subheading */\n",
              ".gt { color: #0044DD } /* Generic.Traceback */\n",
              ".kc { color: #008000; font-weight: bold } /* Keyword.Constant */\n",
              ".kd { color: #008000; font-weight: bold } /* Keyword.Declaration */\n",
              ".kn { color: #008000; font-weight: bold } /* Keyword.Namespace */\n",
              ".kp { color: #008000 } /* Keyword.Pseudo */\n",
              ".kr { color: #008000; font-weight: bold } /* Keyword.Reserved */\n",
              ".kt { color: #B00040 } /* Keyword.Type */\n",
              ".m { color: #666666 } /* Literal.Number */\n",
              ".s { color: #BA2121 } /* Literal.String */\n",
              ".na { color: #7D9029 } /* Name.Attribute */\n",
              ".nb { color: #008000 } /* Name.Builtin */\n",
              ".nc { color: #0000FF; font-weight: bold } /* Name.Class */\n",
              ".no { color: #880000 } /* Name.Constant */\n",
              ".nd { color: #AA22FF } /* Name.Decorator */\n",
              ".ni { color: #999999; font-weight: bold } /* Name.Entity */\n",
              ".ne { color: #D2413A; font-weight: bold } /* Name.Exception */\n",
              ".nf { color: #0000FF } /* Name.Function */\n",
              ".nl { color: #A0A000 } /* Name.Label */\n",
              ".nn { color: #0000FF; font-weight: bold } /* Name.Namespace */\n",
              ".nt { color: #008000; font-weight: bold } /* Name.Tag */\n",
              ".nv { color: #19177C } /* Name.Variable */\n",
              ".ow { color: #AA22FF; font-weight: bold } /* Operator.Word */\n",
              ".w { color: #bbbbbb } /* Text.Whitespace */\n",
              ".mb { color: #666666 } /* Literal.Number.Bin */\n",
              ".mf { color: #666666 } /* Literal.Number.Float */\n",
              ".mh { color: #666666 } /* Literal.Number.Hex */\n",
              ".mi { color: #666666 } /* Literal.Number.Integer */\n",
              ".mo { color: #666666 } /* Literal.Number.Oct */\n",
              ".sb { color: #BA2121 } /* Literal.String.Backtick */\n",
              ".sc { color: #BA2121 } /* Literal.String.Char */\n",
              ".sd { color: #BA2121; font-style: italic } /* Literal.String.Doc */\n",
              ".s2 { color: #BA2121 } /* Literal.String.Double */\n",
              ".se { color: #BB6622; font-weight: bold } /* Literal.String.Escape */\n",
              ".sh { color: #BA2121 } /* Literal.String.Heredoc */\n",
              ".si { color: #BB6688; font-weight: bold } /* Literal.String.Interpol */\n",
              ".sx { color: #008000 } /* Literal.String.Other */\n",
              ".sr { color: #BB6688 } /* Literal.String.Regex */\n",
              ".s1 { color: #BA2121 } /* Literal.String.Single */\n",
              ".ss { color: #19177C } /* Literal.String.Symbol */\n",
              ".bp { color: #008000 } /* Name.Builtin.Pseudo */\n",
              ".vc { color: #19177C } /* Name.Variable.Class */\n",
              ".vg { color: #19177C } /* Name.Variable.Global */\n",
              ".vi { color: #19177C } /* Name.Variable.Instance */\n",
              ".il { color: #666666 } /* Literal.Number.Integer.Long */\n",
              "</style>\n"
            ],
            "text/plain": [
              "<IPython.core.display.HTML object>"
            ]
          },
          "metadata": {
            "tags": []
          }
        }
      ]
    },
    {
      "cell_type": "markdown",
      "metadata": {
        "id": "8m8pxnoQL417",
        "colab_type": "text"
      },
      "source": [
        "## Unit 0 Course Overview, Homework 0, Project 0 (1 week)\n",
        "[Introduction to ML packages (part 1)](https://github.com/Varal7/ml-tutorial/blob/master/Part1.ipynb)  \n",
        "[Introduction to ML packages (part 2)](https://nbviewer.jupyter.org/github/Varal7/ml-tutorial/blob/master/Part2.ipynb)  \n"
      ]
    },
    {
      "cell_type": "code",
      "metadata": {
        "id": "m2-KD_l-Ma3r",
        "colab_type": "code",
        "outputId": "ed753ea3-af91-4659-df6c-00c01947eac4",
        "colab": {
          "base_uri": "https://localhost:8080/",
          "height": 139
        }
      },
      "source": [
        "dest = Path(\"Unit 0 Course Overview, Homework 0, Project 0 (1 week)\")\n",
        "\n",
        "urls = {\"resources_calendar_2T2019.pdf\": \"https://courses.edx.org/asset-v1:MITx+6.86x+1T2019+type@asset+block@resources_calendar_2T2019.pdf\",\n",
        "        \"resources_syllabus_schedule_2T2019.pdf\": \"https://courses.edx.org/asset-v1:MITx+6.86x+1T2019+type@asset+block@resources_syllabus_schedule_2T2019.pdf\"}\n",
        "for name, url in urls.items():\n",
        "  File.download(url, dest=dest, name=name)"
      ],
      "execution_count": 0,
      "outputs": [
        {
          "output_type": "stream",
          "text": [
            "######################################################################## 100.0%\n",
            "######################################################################## 100.0%\n"
          ],
          "name": "stdout"
        },
        {
          "output_type": "execute_result",
          "data": {
            "text/plain": [
              "[PosixPath('/content/MITx---Machine-Learning-with-Python-From-Linear-Models-to-Deep-Learning-Jun-11-2019/Unit 0 Course Overview, Homework 0, Project 0 (1 week)/project0'),\n",
              " PosixPath('/content/MITx---Machine-Learning-with-Python-From-Linear-Models-to-Deep-Learning-Jun-11-2019/Unit 0 Course Overview, Homework 0, Project 0 (1 week)/project0/debug.py'),\n",
              " PosixPath('/content/MITx---Machine-Learning-with-Python-From-Linear-Models-to-Deep-Learning-Jun-11-2019/Unit 0 Course Overview, Homework 0, Project 0 (1 week)/project0/main.py'),\n",
              " PosixPath('/content/MITx---Machine-Learning-with-Python-From-Linear-Models-to-Deep-Learning-Jun-11-2019/Unit 0 Course Overview, Homework 0, Project 0 (1 week)/project0/test.py')]"
            ]
          },
          "metadata": {
            "tags": []
          },
          "execution_count": 18
        }
      ]
    },
    {
      "cell_type": "markdown",
      "metadata": {
        "colab_type": "text",
        "id": "RgU5BD-9OzVy"
      },
      "source": [
        "## Unit 1 Linear Classifiers and Generalizations (2 weeks)\n",
        "[Perceptron Mistake Bounds](https://arxiv.org/pdf/1305.0208.pdf)  \n"
      ]
    },
    {
      "cell_type": "code",
      "metadata": {
        "id": "94_XdZ6tnRSV",
        "colab_type": "code",
        "outputId": "e9f5449c-eb7f-43bb-ebf4-e5ada1918ac7",
        "colab": {
          "base_uri": "https://localhost:8080/",
          "height": 258
        }
      },
      "source": [
        "dest = Path(\"Unit 1 Linear Classifiers and Generalizations (2 weeks)\")\n",
        "\n",
        "urls = {\"slides_lecture1.pdf\": \"https://courses.edx.org/asset-v1:MITx+6.86x+1T2019+type@asset+block@slides_lecture1.pdf\",\n",
        "        \"slides_lecture2.pdf\": \"https://courses.edx.org/asset-v1:MITx+6.86x+1T2019+type@asset+block@slides_lecture2.pdf\",\n",
        "        \"slides_lecture3.pdf\": \"https://courses.edx.org/asset-v1:MITx+6.86x+1T2019+type@asset+block@slides_lecture3.pdf\",\n",
        "        \"slides_lecture4.pdf\": \"https://courses.edx.org/asset-v1:MITx+6.86x+1T2019+type@asset+block@slides_lecture4.pdf\"}\n",
        "for name, url in urls.items():\n",
        "  File.download(url, dest=dest, name=name)"
      ],
      "execution_count": 0,
      "outputs": [
        {
          "output_type": "execute_result",
          "data": {
            "text/plain": [
              "[PosixPath('/content/MITx---Machine-Learning-with-Python-From-Linear-Models-to-Deep-Learning-Jun-11-2019/Unit 1 Linear Classifiers and Generalizations (2 weeks)/Project 1: Automatic Review Analyzer/sentiment_analysis'),\n",
              " PosixPath('/content/MITx---Machine-Learning-with-Python-From-Linear-Models-to-Deep-Learning-Jun-11-2019/Unit 1 Linear Classifiers and Generalizations (2 weeks)/Project 1: Automatic Review Analyzer/sentiment_analysis/200.txt'),\n",
              " PosixPath('/content/MITx---Machine-Learning-with-Python-From-Linear-Models-to-Deep-Learning-Jun-11-2019/Unit 1 Linear Classifiers and Generalizations (2 weeks)/Project 1: Automatic Review Analyzer/sentiment_analysis/4000.txt'),\n",
              " PosixPath('/content/MITx---Machine-Learning-with-Python-From-Linear-Models-to-Deep-Learning-Jun-11-2019/Unit 1 Linear Classifiers and Generalizations (2 weeks)/Project 1: Automatic Review Analyzer/sentiment_analysis/main.py'),\n",
              " PosixPath('/content/MITx---Machine-Learning-with-Python-From-Linear-Models-to-Deep-Learning-Jun-11-2019/Unit 1 Linear Classifiers and Generalizations (2 weeks)/Project 1: Automatic Review Analyzer/sentiment_analysis/project1.py'),\n",
              " PosixPath('/content/MITx---Machine-Learning-with-Python-From-Linear-Models-to-Deep-Learning-Jun-11-2019/Unit 1 Linear Classifiers and Generalizations (2 weeks)/Project 1: Automatic Review Analyzer/sentiment_analysis/reviews_submit.tsv'),\n",
              " PosixPath('/content/MITx---Machine-Learning-with-Python-From-Linear-Models-to-Deep-Learning-Jun-11-2019/Unit 1 Linear Classifiers and Generalizations (2 weeks)/Project 1: Automatic Review Analyzer/sentiment_analysis/reviews_test.tsv'),\n",
              " PosixPath('/content/MITx---Machine-Learning-with-Python-From-Linear-Models-to-Deep-Learning-Jun-11-2019/Unit 1 Linear Classifiers and Generalizations (2 weeks)/Project 1: Automatic Review Analyzer/sentiment_analysis/reviews_train.tsv'),\n",
              " PosixPath('/content/MITx---Machine-Learning-with-Python-From-Linear-Models-to-Deep-Learning-Jun-11-2019/Unit 1 Linear Classifiers and Generalizations (2 weeks)/Project 1: Automatic Review Analyzer/sentiment_analysis/reviews_val.tsv'),\n",
              " PosixPath('/content/MITx---Machine-Learning-with-Python-From-Linear-Models-to-Deep-Learning-Jun-11-2019/Unit 1 Linear Classifiers and Generalizations (2 weeks)/Project 1: Automatic Review Analyzer/sentiment_analysis/stopwords.txt'),\n",
              " PosixPath('/content/MITx---Machine-Learning-with-Python-From-Linear-Models-to-Deep-Learning-Jun-11-2019/Unit 1 Linear Classifiers and Generalizations (2 weeks)/Project 1: Automatic Review Analyzer/sentiment_analysis/test.py'),\n",
              " PosixPath('/content/MITx---Machine-Learning-with-Python-From-Linear-Models-to-Deep-Learning-Jun-11-2019/Unit 1 Linear Classifiers and Generalizations (2 weeks)/Project 1: Automatic Review Analyzer/sentiment_analysis/toy_data.tsv'),\n",
              " PosixPath('/content/MITx---Machine-Learning-with-Python-From-Linear-Models-to-Deep-Learning-Jun-11-2019/Unit 1 Linear Classifiers and Generalizations (2 weeks)/Project 1: Automatic Review Analyzer/sentiment_analysis/utils.py')]"
            ]
          },
          "metadata": {
            "tags": []
          },
          "execution_count": 10
        }
      ]
    },
    {
      "cell_type": "markdown",
      "metadata": {
        "colab_type": "text",
        "id": "R9Zo-Li5UG7d"
      },
      "source": [
        "## Unit 2 Nonlinear Classification, Linear regression, Collaborative Filtering (2 weeks)\n"
      ]
    },
    {
      "cell_type": "code",
      "metadata": {
        "id": "Bz5LgvJlT8e0",
        "colab_type": "code",
        "outputId": "37ff9022-b538-474f-dcd9-718ab9ae0802",
        "colab": {
          "base_uri": "https://localhost:8080/",
          "height": 34
        }
      },
      "source": [
        "dest = Path(\"Unit 2 Nonlinear Classification, Linear regression, Collaborative Filtering (2 weeks)\")\n",
        "\n",
        "urls = {\"slides_lecture7.pdf\": \"https://courses.edx.org/asset-v1:MITx+6.86x+1T2019+type@asset+block@slides_lecture7.pdf\"}\n",
        "for name, url in urls.items():\n",
        "  File.download(url, dest=dest, name=name)"
      ],
      "execution_count": 0,
      "outputs": [
        {
          "output_type": "stream",
          "text": [
            "#=#=#                                                                         \r##O#- #                                                                       \r\n"
          ],
          "name": "stdout"
        }
      ]
    },
    {
      "cell_type": "markdown",
      "metadata": {
        "id": "myk6EwQzjNuY",
        "colab_type": "text"
      },
      "source": [
        "## Project 0"
      ]
    },
    {
      "cell_type": "code",
      "metadata": {
        "id": "RqM6KL2jjN7K",
        "colab_type": "code",
        "outputId": "dd39f6f7-07e2-4563-d0de-b5c15451c4aa",
        "colab": {
          "base_uri": "https://localhost:8080/",
          "height": 85
        }
      },
      "source": [
        "dest = REPO/\"Project 0\"\n",
        "urls = {\"resources_project0.tar.gz\": \"https://prod-edxapp.edx-cdn.org/assets/courseware/v1/cae5959d5cff65ed9c7fdb0c3b59ba02/asset-v1:MITx+6.86x+1T2019+type@asset+block/resources_project0.tar.gz\"}\n",
        "File.runtar(urls[\"resources_project0.tar.gz\"], dest=dest)"
      ],
      "execution_count": 0,
      "outputs": [
        {
          "output_type": "execute_result",
          "data": {
            "text/plain": [
              "[PosixPath('/content/MITx---Machine-Learning-with-Python-From-Linear-Models-to-Deep-Learning-Jun-11-2019/Project 0/project0'),\n",
              " PosixPath('/content/MITx---Machine-Learning-with-Python-From-Linear-Models-to-Deep-Learning-Jun-11-2019/Project 0/project0/debug.py'),\n",
              " PosixPath('/content/MITx---Machine-Learning-with-Python-From-Linear-Models-to-Deep-Learning-Jun-11-2019/Project 0/project0/main.py'),\n",
              " PosixPath('/content/MITx---Machine-Learning-with-Python-From-Linear-Models-to-Deep-Learning-Jun-11-2019/Project 0/project0/test.py')]"
            ]
          },
          "metadata": {
            "tags": []
          },
          "execution_count": 16
        }
      ]
    },
    {
      "cell_type": "markdown",
      "metadata": {
        "id": "YmvXi4wkfbuF",
        "colab_type": "text"
      },
      "source": [
        "## Project 1: Automatic Review Analyzer"
      ]
    },
    {
      "cell_type": "code",
      "metadata": {
        "id": "GsOAcq4vfqDJ",
        "colab_type": "code",
        "outputId": "477cd197-0d5e-407c-fa23-5d8429324517",
        "colab": {
          "base_uri": "https://localhost:8080/",
          "height": 258
        }
      },
      "source": [
        "dest = REPO/\"Project 1: Automatic Review Analyzer\"\n",
        "urls = {\"resources_sentiment_analysis.tar.gz\": \"https://prod-edxapp.edx-cdn.org/assets/courseware/v1/d9e1b0bf165a7c7e4458b667ea3d29d6/asset-v1:MITx+6.86x+1T2019+type@asset+block/resources_sentiment_analysis.tar.gz\"}\n",
        "File.runtar(urls[\"resources_sentiment_analysis.tar.gz\"], dest=dest)"
      ],
      "execution_count": 0,
      "outputs": [
        {
          "output_type": "execute_result",
          "data": {
            "text/plain": [
              "[PosixPath('/content/MITx---Machine-Learning-with-Python-From-Linear-Models-to-Deep-Learning-Jun-11-2019/Project 1: Automatic Review Analyzer/sentiment_analysis'),\n",
              " PosixPath('/content/MITx---Machine-Learning-with-Python-From-Linear-Models-to-Deep-Learning-Jun-11-2019/Project 1: Automatic Review Analyzer/sentiment_analysis/200.txt'),\n",
              " PosixPath('/content/MITx---Machine-Learning-with-Python-From-Linear-Models-to-Deep-Learning-Jun-11-2019/Project 1: Automatic Review Analyzer/sentiment_analysis/4000.txt'),\n",
              " PosixPath('/content/MITx---Machine-Learning-with-Python-From-Linear-Models-to-Deep-Learning-Jun-11-2019/Project 1: Automatic Review Analyzer/sentiment_analysis/main.py'),\n",
              " PosixPath('/content/MITx---Machine-Learning-with-Python-From-Linear-Models-to-Deep-Learning-Jun-11-2019/Project 1: Automatic Review Analyzer/sentiment_analysis/project1.py'),\n",
              " PosixPath('/content/MITx---Machine-Learning-with-Python-From-Linear-Models-to-Deep-Learning-Jun-11-2019/Project 1: Automatic Review Analyzer/sentiment_analysis/reviews_submit.tsv'),\n",
              " PosixPath('/content/MITx---Machine-Learning-with-Python-From-Linear-Models-to-Deep-Learning-Jun-11-2019/Project 1: Automatic Review Analyzer/sentiment_analysis/reviews_test.tsv'),\n",
              " PosixPath('/content/MITx---Machine-Learning-with-Python-From-Linear-Models-to-Deep-Learning-Jun-11-2019/Project 1: Automatic Review Analyzer/sentiment_analysis/reviews_train.tsv'),\n",
              " PosixPath('/content/MITx---Machine-Learning-with-Python-From-Linear-Models-to-Deep-Learning-Jun-11-2019/Project 1: Automatic Review Analyzer/sentiment_analysis/reviews_val.tsv'),\n",
              " PosixPath('/content/MITx---Machine-Learning-with-Python-From-Linear-Models-to-Deep-Learning-Jun-11-2019/Project 1: Automatic Review Analyzer/sentiment_analysis/stopwords.txt'),\n",
              " PosixPath('/content/MITx---Machine-Learning-with-Python-From-Linear-Models-to-Deep-Learning-Jun-11-2019/Project 1: Automatic Review Analyzer/sentiment_analysis/test.py'),\n",
              " PosixPath('/content/MITx---Machine-Learning-with-Python-From-Linear-Models-to-Deep-Learning-Jun-11-2019/Project 1: Automatic Review Analyzer/sentiment_analysis/toy_data.tsv'),\n",
              " PosixPath('/content/MITx---Machine-Learning-with-Python-From-Linear-Models-to-Deep-Learning-Jun-11-2019/Project 1: Automatic Review Analyzer/sentiment_analysis/utils.py')]"
            ]
          },
          "metadata": {
            "tags": []
          },
          "execution_count": 11
        }
      ]
    },
    {
      "cell_type": "markdown",
      "metadata": {
        "id": "7ILM4JyuLzue",
        "colab_type": "text"
      },
      "source": [
        "## Push repository"
      ]
    },
    {
      "cell_type": "code",
      "metadata": {
        "id": "RqifDMhBglwC",
        "colab_type": "code",
        "outputId": "bf1e3809-fd97-435b-d508-251dfcb47c96",
        "colab": {
          "base_uri": "https://localhost:8080/",
          "height": 153
        }
      },
      "source": [
        "message = \"Move Homework_1, Homework_2, Homework_3\"\n",
        "\n",
        "# Configure\n",
        "Git.config(confile=CONFILE_GIT)\n",
        "\n",
        "# Track\n",
        "!git add -A\n",
        "\n",
        "# Commit\n",
        "!git commit -m \"{message}\"\n",
        "\n",
        "# Push\n",
        "Git.push(URL, authfile=AUTHFILE_GIT)"
      ],
      "execution_count": 23,
      "outputs": [
        {
          "output_type": "stream",
          "text": [
            "Counting objects: 10, done.\n",
            "Delta compression using up to 2 threads.\n",
            "Compressing objects:  11% (1/9)   \rCompressing objects:  22% (2/9)   \rCompressing objects:  33% (3/9)   \rCompressing objects:  44% (4/9)   \rCompressing objects:  55% (5/9)   \rCompressing objects:  66% (6/9)   \rCompressing objects:  77% (7/9)   \rCompressing objects:  88% (8/9)   \rCompressing objects: 100% (9/9)   \rCompressing objects: 100% (9/9), done.\n",
            "Writing objects:  10% (1/10)   \rWriting objects:  20% (2/10)   \rWriting objects:  30% (3/10)   \rWriting objects:  40% (4/10)   \rWriting objects:  50% (5/10)   \rWriting objects:  60% (6/10)   \rWriting objects:  70% (7/10)   \rWriting objects:  80% (8/10)   \rWriting objects:  90% (9/10)   \rWriting objects: 100% (10/10)   \rWriting objects: 100% (10/10), 1.13 KiB | 1.13 MiB/s, done.\n",
            "Total 10 (delta 4), reused 0 (delta 0)\n",
            "remote: Resolving deltas:   0% (0/4)   \u001b[K\rremote: Resolving deltas:  75% (3/4)   \u001b[K\rremote: Resolving deltas: 100% (4/4)   \u001b[K\rremote: Resolving deltas: 100% (4/4), completed with 2 local objects.\u001b[K\n",
            "To https://github.com/Data-Science-and-Data-Analytics-Courses/MITx---Machine-Learning-with-Python-From-Linear-Models-to-Deep-Learning-Jun-11-2019\n",
            "   8dceace..e645983  HEAD -> master\n"
          ],
          "name": "stdout"
        }
      ]
    }
  ]
}