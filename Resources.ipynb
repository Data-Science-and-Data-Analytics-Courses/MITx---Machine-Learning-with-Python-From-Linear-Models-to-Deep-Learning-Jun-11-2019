{
  "nbformat": 4,
  "nbformat_minor": 0,
  "metadata": {
    "colab": {
      "name": "Resources.ipynb",
      "version": "0.3.2",
      "provenance": [],
      "collapsed_sections": [],
      "include_colab_link": true
    },
    "kernelspec": {
      "name": "python3",
      "display_name": "Python 3"
    },
    "accelerator": "GPU"
  },
  "cells": [
    {
      "cell_type": "markdown",
      "metadata": {
        "id": "view-in-github",
        "colab_type": "text"
      },
      "source": [
        "<a href=\"https://colab.research.google.com/github/Data-Science-and-Data-Analytics-Courses/MITx---Machine-Learning-with-Python-From-Linear-Models-to-Deep-Learning-Jun-11-2019/blob/master/Resources.ipynb\" target=\"_parent\"><img src=\"https://colab.research.google.com/assets/colab-badge.svg\" alt=\"Open In Colab\"/></a>"
      ]
    },
    {
      "cell_type": "markdown",
      "metadata": {
        "id": "fRrOetKsg-RC",
        "colab_type": "text"
      },
      "source": [
        "# Resources\n",
        "\n",
        "---\n",
        "\n"
      ]
    },
    {
      "cell_type": "markdown",
      "metadata": {
        "colab_type": "text",
        "id": "NFlCab3fJ3Gf"
      },
      "source": [
        "## Packages and libraries"
      ]
    },
    {
      "cell_type": "code",
      "metadata": {
        "colab_type": "code",
        "outputId": "f77afea3-005e-4247-e6fe-8a8f370ee58e",
        "id": "Cc80Soh0J3Gn",
        "colab": {
          "base_uri": "https://localhost:8080/",
          "height": 119
        }
      },
      "source": [
        "import sys\n",
        "\n",
        "url = \"https://github.com/Data-Science-and-Data-Analytics-Courses/Notebook-Library\"\n",
        "\n",
        "!git clone \"{url}\" \"/nblib\"\n",
        "%run \"/nblib/.Importable.ipynb\"\n",
        "sys.path.append(\"/\")"
      ],
      "execution_count": 1,
      "outputs": [
        {
          "output_type": "stream",
          "text": [
            "Cloning into '/nblib'...\n",
            "remote: Enumerating objects: 32, done.\u001b[K\n",
            "remote: Counting objects:   3% (1/32)   \u001b[K\rremote: Counting objects:   6% (2/32)   \u001b[K\rremote: Counting objects:   9% (3/32)   \u001b[K\rremote: Counting objects:  12% (4/32)   \u001b[K\rremote: Counting objects:  15% (5/32)   \u001b[K\rremote: Counting objects:  18% (6/32)   \u001b[K\rremote: Counting objects:  21% (7/32)   \u001b[K\rremote: Counting objects:  25% (8/32)   \u001b[K\rremote: Counting objects:  28% (9/32)   \u001b[K\rremote: Counting objects:  31% (10/32)   \u001b[K\rremote: Counting objects:  34% (11/32)   \u001b[K\rremote: Counting objects:  37% (12/32)   \u001b[K\rremote: Counting objects:  40% (13/32)   \u001b[K\rremote: Counting objects:  43% (14/32)   \u001b[K\rremote: Counting objects:  46% (15/32)   \u001b[K\rremote: Counting objects:  50% (16/32)   \u001b[K\rremote: Counting objects:  53% (17/32)   \u001b[K\rremote: Counting objects:  56% (18/32)   \u001b[K\rremote: Counting objects:  59% (19/32)   \u001b[K\rremote: Counting objects:  62% (20/32)   \u001b[K\rremote: Counting objects:  65% (21/32)   \u001b[K\rremote: Counting objects:  68% (22/32)   \u001b[K\rremote: Counting objects:  71% (23/32)   \u001b[K\rremote: Counting objects:  75% (24/32)   \u001b[K\rremote: Counting objects:  78% (25/32)   \u001b[K\rremote: Counting objects:  81% (26/32)   \u001b[K\rremote: Counting objects:  84% (27/32)   \u001b[K\rremote: Counting objects:  87% (28/32)   \u001b[K\rremote: Counting objects:  90% (29/32)   \u001b[K\rremote: Counting objects:  93% (30/32)   \u001b[K\rremote: Counting objects:  96% (31/32)   \u001b[K\rremote: Counting objects: 100% (32/32)   \u001b[K\rremote: Counting objects: 100% (32/32), done.\u001b[K\n",
            "remote: Compressing objects:   3% (1/29)   \u001b[K\rremote: Compressing objects:   6% (2/29)   \u001b[K\rremote: Compressing objects:  10% (3/29)   \u001b[K\rremote: Compressing objects:  13% (4/29)   \u001b[K\rremote: Compressing objects:  17% (5/29)   \u001b[K\rremote: Compressing objects:  20% (6/29)   \u001b[K\rremote: Compressing objects:  24% (7/29)   \u001b[K\rremote: Compressing objects:  27% (8/29)   \u001b[K\rremote: Compressing objects:  31% (9/29)   \u001b[K\rremote: Compressing objects:  34% (10/29)   \u001b[K\rremote: Compressing objects:  37% (11/29)   \u001b[K\rremote: Compressing objects:  41% (12/29)   \u001b[K\rremote: Compressing objects:  44% (13/29)   \u001b[K\rremote: Compressing objects:  48% (14/29)   \u001b[K\rremote: Compressing objects:  51% (15/29)   \u001b[K\rremote: Compressing objects:  55% (16/29)   \u001b[K\rremote: Compressing objects:  58% (17/29)   \u001b[K\rremote: Compressing objects:  62% (18/29)   \u001b[K\rremote: Compressing objects:  65% (19/29)   \u001b[K\rremote: Compressing objects:  68% (20/29)   \u001b[K\rremote: Compressing objects:  72% (21/29)   \u001b[K\rremote: Compressing objects:  75% (22/29)   \u001b[K\rremote: Compressing objects:  79% (23/29)   \u001b[K\rremote: Compressing objects:  82% (24/29)   \u001b[K\rremote: Compressing objects:  86% (25/29)   \u001b[K\rremote: Compressing objects:  89% (26/29)   \u001b[K\rremote: Compressing objects:  93% (27/29)   \u001b[K\rremote: Compressing objects:  96% (28/29)   \u001b[K\rremote: Compressing objects: 100% (29/29)   \u001b[K\rremote: Compressing objects: 100% (29/29), done.\u001b[K\n",
            "remote: Total 32 (delta 15), reused 7 (delta 2), pack-reused 0\u001b[K\n",
            "Unpacking objects:   3% (1/32)   \rUnpacking objects:   6% (2/32)   \rUnpacking objects:   9% (3/32)   \rUnpacking objects:  12% (4/32)   \rUnpacking objects:  15% (5/32)   \rUnpacking objects:  18% (6/32)   \rUnpacking objects:  21% (7/32)   \rUnpacking objects:  25% (8/32)   \rUnpacking objects:  28% (9/32)   \rUnpacking objects:  31% (10/32)   \rUnpacking objects:  34% (11/32)   \rUnpacking objects:  37% (12/32)   \rUnpacking objects:  40% (13/32)   \rUnpacking objects:  43% (14/32)   \rUnpacking objects:  46% (15/32)   \rUnpacking objects:  50% (16/32)   \rUnpacking objects:  53% (17/32)   \rUnpacking objects:  56% (18/32)   \rUnpacking objects:  59% (19/32)   \rUnpacking objects:  62% (20/32)   \rUnpacking objects:  65% (21/32)   \rUnpacking objects:  68% (22/32)   \rUnpacking objects:  71% (23/32)   \rUnpacking objects:  75% (24/32)   \rUnpacking objects:  78% (25/32)   \rUnpacking objects:  81% (26/32)   \rUnpacking objects:  84% (27/32)   \rUnpacking objects:  87% (28/32)   \rUnpacking objects:  90% (29/32)   \rUnpacking objects:  93% (30/32)   \rUnpacking objects:  96% (31/32)   \rUnpacking objects: 100% (32/32)   \rUnpacking objects: 100% (32/32), done.\n"
          ],
          "name": "stdout"
        },
        {
          "output_type": "display_data",
          "data": {
            "text/html": [
              "\n",
              "<style type='text/css'>\n",
              ".hll { background-color: #ffffcc }\n",
              ".c { color: #408080; font-style: italic } /* Comment */\n",
              ".err { border: 1px solid #FF0000 } /* Error */\n",
              ".k { color: #008000; font-weight: bold } /* Keyword */\n",
              ".o { color: #666666 } /* Operator */\n",
              ".ch { color: #408080; font-style: italic } /* Comment.Hashbang */\n",
              ".cm { color: #408080; font-style: italic } /* Comment.Multiline */\n",
              ".cp { color: #BC7A00 } /* Comment.Preproc */\n",
              ".cpf { color: #408080; font-style: italic } /* Comment.PreprocFile */\n",
              ".c1 { color: #408080; font-style: italic } /* Comment.Single */\n",
              ".cs { color: #408080; font-style: italic } /* Comment.Special */\n",
              ".gd { color: #A00000 } /* Generic.Deleted */\n",
              ".ge { font-style: italic } /* Generic.Emph */\n",
              ".gr { color: #FF0000 } /* Generic.Error */\n",
              ".gh { color: #000080; font-weight: bold } /* Generic.Heading */\n",
              ".gi { color: #00A000 } /* Generic.Inserted */\n",
              ".go { color: #888888 } /* Generic.Output */\n",
              ".gp { color: #000080; font-weight: bold } /* Generic.Prompt */\n",
              ".gs { font-weight: bold } /* Generic.Strong */\n",
              ".gu { color: #800080; font-weight: bold } /* Generic.Subheading */\n",
              ".gt { color: #0044DD } /* Generic.Traceback */\n",
              ".kc { color: #008000; font-weight: bold } /* Keyword.Constant */\n",
              ".kd { color: #008000; font-weight: bold } /* Keyword.Declaration */\n",
              ".kn { color: #008000; font-weight: bold } /* Keyword.Namespace */\n",
              ".kp { color: #008000 } /* Keyword.Pseudo */\n",
              ".kr { color: #008000; font-weight: bold } /* Keyword.Reserved */\n",
              ".kt { color: #B00040 } /* Keyword.Type */\n",
              ".m { color: #666666 } /* Literal.Number */\n",
              ".s { color: #BA2121 } /* Literal.String */\n",
              ".na { color: #7D9029 } /* Name.Attribute */\n",
              ".nb { color: #008000 } /* Name.Builtin */\n",
              ".nc { color: #0000FF; font-weight: bold } /* Name.Class */\n",
              ".no { color: #880000 } /* Name.Constant */\n",
              ".nd { color: #AA22FF } /* Name.Decorator */\n",
              ".ni { color: #999999; font-weight: bold } /* Name.Entity */\n",
              ".ne { color: #D2413A; font-weight: bold } /* Name.Exception */\n",
              ".nf { color: #0000FF } /* Name.Function */\n",
              ".nl { color: #A0A000 } /* Name.Label */\n",
              ".nn { color: #0000FF; font-weight: bold } /* Name.Namespace */\n",
              ".nt { color: #008000; font-weight: bold } /* Name.Tag */\n",
              ".nv { color: #19177C } /* Name.Variable */\n",
              ".ow { color: #AA22FF; font-weight: bold } /* Operator.Word */\n",
              ".w { color: #bbbbbb } /* Text.Whitespace */\n",
              ".mb { color: #666666 } /* Literal.Number.Bin */\n",
              ".mf { color: #666666 } /* Literal.Number.Float */\n",
              ".mh { color: #666666 } /* Literal.Number.Hex */\n",
              ".mi { color: #666666 } /* Literal.Number.Integer */\n",
              ".mo { color: #666666 } /* Literal.Number.Oct */\n",
              ".sb { color: #BA2121 } /* Literal.String.Backtick */\n",
              ".sc { color: #BA2121 } /* Literal.String.Char */\n",
              ".sd { color: #BA2121; font-style: italic } /* Literal.String.Doc */\n",
              ".s2 { color: #BA2121 } /* Literal.String.Double */\n",
              ".se { color: #BB6622; font-weight: bold } /* Literal.String.Escape */\n",
              ".sh { color: #BA2121 } /* Literal.String.Heredoc */\n",
              ".si { color: #BB6688; font-weight: bold } /* Literal.String.Interpol */\n",
              ".sx { color: #008000 } /* Literal.String.Other */\n",
              ".sr { color: #BB6688 } /* Literal.String.Regex */\n",
              ".s1 { color: #BA2121 } /* Literal.String.Single */\n",
              ".ss { color: #19177C } /* Literal.String.Symbol */\n",
              ".bp { color: #008000 } /* Name.Builtin.Pseudo */\n",
              ".vc { color: #19177C } /* Name.Variable.Class */\n",
              ".vg { color: #19177C } /* Name.Variable.Global */\n",
              ".vi { color: #19177C } /* Name.Variable.Instance */\n",
              ".il { color: #666666 } /* Literal.Number.Integer.Long */\n",
              "</style>\n"
            ],
            "text/plain": [
              "<IPython.core.display.HTML object>"
            ]
          },
          "metadata": {
            "tags": []
          }
        }
      ]
    },
    {
      "cell_type": "code",
      "metadata": {
        "colab_type": "code",
        "id": "FpDB3HAlJ3Gz",
        "colab": {
          "base_uri": "https://localhost:8080/",
          "height": 258
        },
        "outputId": "5ed436aa-1f70-4dda-d186-41981c49a9ea"
      },
      "source": [
        "from pathlib import Path\n",
        "\n",
        "from google.colab import drive\n",
        "from nblib import Git\n",
        "\n",
        "DRIVE = Path(\"/drive\", \"My Drive\")\n",
        "drive.mount(DRIVE.parent.as_posix())\n",
        "CONFILE_GIT = DRIVE/\"GitHub\"/\"config.json\" # path to GitHub configuration file\n",
        "AUTHFILE_GIT = DRIVE/\"GitHub\"/\"login.json\" # path to GitHub authentication file\n",
        "\n",
        "URL = \"https://github.com/Data-Science-and-Data-Analytics-Courses/MITx---Machine-Learning-with-Python-From-Linear-Models-to-Deep-Learning-Jun-11-2019\"\n",
        "nbdir_rel = \"\"\n",
        "REPO = Git.clone(URL)\n",
        "NBDIR = REPO/nbdir_rel\n",
        "os.chdir(NBDIR)"
      ],
      "execution_count": 2,
      "outputs": [
        {
          "output_type": "stream",
          "text": [
            "importing Jupyter notebook from /nblib/Git.ipynb\n",
            "Go to this URL in a browser: https://accounts.google.com/o/oauth2/auth?client_id=947318989803-6bn6qk8qdgf4n4g3pfee6491hc0brc4i.apps.googleusercontent.com&redirect_uri=urn%3Aietf%3Awg%3Aoauth%3A2.0%3Aoob&scope=email%20https%3A%2F%2Fwww.googleapis.com%2Fauth%2Fdocs.test%20https%3A%2F%2Fwww.googleapis.com%2Fauth%2Fdrive%20https%3A%2F%2Fwww.googleapis.com%2Fauth%2Fdrive.photos.readonly%20https%3A%2F%2Fwww.googleapis.com%2Fauth%2Fpeopleapi.readonly&response_type=code\n",
            "\n",
            "Enter your authorization code:\n",
            "··········\n",
            "Mounted at /drive\n",
            "Cloning into '/content/MITx---Machine-Learning-with-Python-From-Linear-Models-to-Deep-Learning-Jun-11-2019'...\n",
            "remote: Enumerating objects: 30, done.\u001b[K\n",
            "remote: Counting objects: 100% (30/30), done.\u001b[K\n",
            "remote: Compressing objects: 100% (25/25), done.\u001b[K\n",
            "remote: Total 370 (delta 9), reused 0 (delta 0), pack-reused 340\u001b[K\n",
            "Receiving objects: 100% (370/370), 5.49 MiB | 22.95 MiB/s, done.\n",
            "Resolving deltas: 100% (201/201), done.\n"
          ],
          "name": "stdout"
        }
      ]
    },
    {
      "cell_type": "code",
      "metadata": {
        "id": "PTGAoWPVKhi1",
        "colab_type": "code",
        "outputId": "85a5bd62-0463-405a-a990-f1d8b3a0cc33",
        "colab": {
          "base_uri": "https://localhost:8080/",
          "height": 34
        }
      },
      "source": [
        "from nblib import File"
      ],
      "execution_count": 3,
      "outputs": [
        {
          "output_type": "stream",
          "text": [
            "importing Jupyter notebook from /nblib/File.ipynb\n"
          ],
          "name": "stdout"
        }
      ]
    },
    {
      "cell_type": "markdown",
      "metadata": {
        "colab_type": "text",
        "id": "5sl8tFrDP67Z"
      },
      "source": [
        "## Resources\n"
      ]
    },
    {
      "cell_type": "markdown",
      "metadata": {
        "id": "8m8pxnoQL417",
        "colab_type": "text"
      },
      "source": [
        "### Unit 0 Course Overview, Homework 0, Project 0 (1 week)\n",
        "[Introduction to ML packages (part 1)](https://github.com/Varal7/ml-tutorial/blob/master/Part1.ipynb)  \n",
        "[Introduction to ML packages (part 2)](https://nbviewer.jupyter.org/github/Varal7/ml-tutorial/blob/master/Part2.ipynb)  \n"
      ]
    },
    {
      "cell_type": "code",
      "metadata": {
        "id": "m2-KD_l-Ma3r",
        "colab_type": "code",
        "outputId": "ed753ea3-af91-4659-df6c-00c01947eac4",
        "colab": {
          "base_uri": "https://localhost:8080/",
          "height": 139
        }
      },
      "source": [
        "dest = Path(\"Unit 0 Course Overview, Homework 0, Project 0 (1 week)\")\n",
        "\n",
        "urls = {\"resources_calendar_2T2019.pdf\": \"https://courses.edx.org/asset-v1:MITx+6.86x+1T2019+type@asset+block@resources_calendar_2T2019.pdf\",\n",
        "        \"resources_syllabus_schedule_2T2019.pdf\": \"https://courses.edx.org/asset-v1:MITx+6.86x+1T2019+type@asset+block@resources_syllabus_schedule_2T2019.pdf\"}\n",
        "for name, url in urls.items():\n",
        "  File.download(url, dest=dest, name=name)"
      ],
      "execution_count": 0,
      "outputs": [
        {
          "output_type": "stream",
          "text": [
            "######################################################################## 100.0%\n",
            "######################################################################## 100.0%\n"
          ],
          "name": "stdout"
        },
        {
          "output_type": "execute_result",
          "data": {
            "text/plain": [
              "[PosixPath('/content/MITx---Machine-Learning-with-Python-From-Linear-Models-to-Deep-Learning-Jun-11-2019/Unit 0 Course Overview, Homework 0, Project 0 (1 week)/project0'),\n",
              " PosixPath('/content/MITx---Machine-Learning-with-Python-From-Linear-Models-to-Deep-Learning-Jun-11-2019/Unit 0 Course Overview, Homework 0, Project 0 (1 week)/project0/debug.py'),\n",
              " PosixPath('/content/MITx---Machine-Learning-with-Python-From-Linear-Models-to-Deep-Learning-Jun-11-2019/Unit 0 Course Overview, Homework 0, Project 0 (1 week)/project0/main.py'),\n",
              " PosixPath('/content/MITx---Machine-Learning-with-Python-From-Linear-Models-to-Deep-Learning-Jun-11-2019/Unit 0 Course Overview, Homework 0, Project 0 (1 week)/project0/test.py')]"
            ]
          },
          "metadata": {
            "tags": []
          },
          "execution_count": 18
        }
      ]
    },
    {
      "cell_type": "markdown",
      "metadata": {
        "colab_type": "text",
        "id": "RgU5BD-9OzVy"
      },
      "source": [
        "### Unit 1 Linear Classifiers and Generalizations (2 weeks)\n",
        "[Perceptron Mistake Bounds](https://arxiv.org/pdf/1305.0208.pdf)  \n"
      ]
    },
    {
      "cell_type": "code",
      "metadata": {
        "id": "94_XdZ6tnRSV",
        "colab_type": "code",
        "outputId": "e9f5449c-eb7f-43bb-ebf4-e5ada1918ac7",
        "colab": {
          "base_uri": "https://localhost:8080/",
          "height": 258
        }
      },
      "source": [
        "dest = Path(\"Unit 1 Linear Classifiers and Generalizations (2 weeks)\")\n",
        "\n",
        "urls = {\"slides_lecture1.pdf\": \"https://courses.edx.org/asset-v1:MITx+6.86x+1T2019+type@asset+block@slides_lecture1.pdf\",\n",
        "        \"slides_lecture2.pdf\": \"https://courses.edx.org/asset-v1:MITx+6.86x+1T2019+type@asset+block@slides_lecture2.pdf\",\n",
        "        \"slides_lecture3.pdf\": \"https://courses.edx.org/asset-v1:MITx+6.86x+1T2019+type@asset+block@slides_lecture3.pdf\",\n",
        "        \"slides_lecture4.pdf\": \"https://courses.edx.org/asset-v1:MITx+6.86x+1T2019+type@asset+block@slides_lecture4.pdf\"}\n",
        "for name, url in urls.items():\n",
        "  File.download(url, dest=dest, name=name)"
      ],
      "execution_count": 0,
      "outputs": [
        {
          "output_type": "execute_result",
          "data": {
            "text/plain": [
              "[PosixPath('/content/MITx---Machine-Learning-with-Python-From-Linear-Models-to-Deep-Learning-Jun-11-2019/Unit 1 Linear Classifiers and Generalizations (2 weeks)/Project 1: Automatic Review Analyzer/sentiment_analysis'),\n",
              " PosixPath('/content/MITx---Machine-Learning-with-Python-From-Linear-Models-to-Deep-Learning-Jun-11-2019/Unit 1 Linear Classifiers and Generalizations (2 weeks)/Project 1: Automatic Review Analyzer/sentiment_analysis/200.txt'),\n",
              " PosixPath('/content/MITx---Machine-Learning-with-Python-From-Linear-Models-to-Deep-Learning-Jun-11-2019/Unit 1 Linear Classifiers and Generalizations (2 weeks)/Project 1: Automatic Review Analyzer/sentiment_analysis/4000.txt'),\n",
              " PosixPath('/content/MITx---Machine-Learning-with-Python-From-Linear-Models-to-Deep-Learning-Jun-11-2019/Unit 1 Linear Classifiers and Generalizations (2 weeks)/Project 1: Automatic Review Analyzer/sentiment_analysis/main.py'),\n",
              " PosixPath('/content/MITx---Machine-Learning-with-Python-From-Linear-Models-to-Deep-Learning-Jun-11-2019/Unit 1 Linear Classifiers and Generalizations (2 weeks)/Project 1: Automatic Review Analyzer/sentiment_analysis/project1.py'),\n",
              " PosixPath('/content/MITx---Machine-Learning-with-Python-From-Linear-Models-to-Deep-Learning-Jun-11-2019/Unit 1 Linear Classifiers and Generalizations (2 weeks)/Project 1: Automatic Review Analyzer/sentiment_analysis/reviews_submit.tsv'),\n",
              " PosixPath('/content/MITx---Machine-Learning-with-Python-From-Linear-Models-to-Deep-Learning-Jun-11-2019/Unit 1 Linear Classifiers and Generalizations (2 weeks)/Project 1: Automatic Review Analyzer/sentiment_analysis/reviews_test.tsv'),\n",
              " PosixPath('/content/MITx---Machine-Learning-with-Python-From-Linear-Models-to-Deep-Learning-Jun-11-2019/Unit 1 Linear Classifiers and Generalizations (2 weeks)/Project 1: Automatic Review Analyzer/sentiment_analysis/reviews_train.tsv'),\n",
              " PosixPath('/content/MITx---Machine-Learning-with-Python-From-Linear-Models-to-Deep-Learning-Jun-11-2019/Unit 1 Linear Classifiers and Generalizations (2 weeks)/Project 1: Automatic Review Analyzer/sentiment_analysis/reviews_val.tsv'),\n",
              " PosixPath('/content/MITx---Machine-Learning-with-Python-From-Linear-Models-to-Deep-Learning-Jun-11-2019/Unit 1 Linear Classifiers and Generalizations (2 weeks)/Project 1: Automatic Review Analyzer/sentiment_analysis/stopwords.txt'),\n",
              " PosixPath('/content/MITx---Machine-Learning-with-Python-From-Linear-Models-to-Deep-Learning-Jun-11-2019/Unit 1 Linear Classifiers and Generalizations (2 weeks)/Project 1: Automatic Review Analyzer/sentiment_analysis/test.py'),\n",
              " PosixPath('/content/MITx---Machine-Learning-with-Python-From-Linear-Models-to-Deep-Learning-Jun-11-2019/Unit 1 Linear Classifiers and Generalizations (2 weeks)/Project 1: Automatic Review Analyzer/sentiment_analysis/toy_data.tsv'),\n",
              " PosixPath('/content/MITx---Machine-Learning-with-Python-From-Linear-Models-to-Deep-Learning-Jun-11-2019/Unit 1 Linear Classifiers and Generalizations (2 weeks)/Project 1: Automatic Review Analyzer/sentiment_analysis/utils.py')]"
            ]
          },
          "metadata": {
            "tags": []
          },
          "execution_count": 10
        }
      ]
    },
    {
      "cell_type": "markdown",
      "metadata": {
        "colab_type": "text",
        "id": "R9Zo-Li5UG7d"
      },
      "source": [
        "### Unit 2 Nonlinear Classification, Linear regression, Collaborative Filtering (2 weeks)\n"
      ]
    },
    {
      "cell_type": "code",
      "metadata": {
        "id": "Bz5LgvJlT8e0",
        "colab_type": "code",
        "outputId": "37ff9022-b538-474f-dcd9-718ab9ae0802",
        "colab": {
          "base_uri": "https://localhost:8080/",
          "height": 34
        }
      },
      "source": [
        "dest = Path(\"Unit 2 Nonlinear Classification, Linear regression, Collaborative Filtering (2 weeks)\")\n",
        "\n",
        "urls = {\"slides_lecture7.pdf\": \"https://courses.edx.org/asset-v1:MITx+6.86x+1T2019+type@asset+block@slides_lecture7.pdf\"}\n",
        "for name, url in urls.items():\n",
        "  File.download(url, dest=dest, name=name)"
      ],
      "execution_count": 0,
      "outputs": [
        {
          "output_type": "stream",
          "text": [
            "#=#=#                                                                         \r##O#- #                                                                       \r\n"
          ],
          "name": "stdout"
        }
      ]
    },
    {
      "cell_type": "markdown",
      "metadata": {
        "id": "myk6EwQzjNuY",
        "colab_type": "text"
      },
      "source": [
        "### Project 0"
      ]
    },
    {
      "cell_type": "code",
      "metadata": {
        "id": "RqM6KL2jjN7K",
        "colab_type": "code",
        "colab": {
          "base_uri": "https://localhost:8080/",
          "height": 85
        },
        "outputId": "dd39f6f7-07e2-4563-d0de-b5c15451c4aa"
      },
      "source": [
        "dest = REPO/\"Project 0\"\n",
        "urls = {\"resources_project0.tar.gz\": \"https://prod-edxapp.edx-cdn.org/assets/courseware/v1/cae5959d5cff65ed9c7fdb0c3b59ba02/asset-v1:MITx+6.86x+1T2019+type@asset+block/resources_project0.tar.gz\"}\n",
        "File.runtar(urls[\"resources_project0.tar.gz\"], dest=dest)"
      ],
      "execution_count": 16,
      "outputs": [
        {
          "output_type": "execute_result",
          "data": {
            "text/plain": [
              "[PosixPath('/content/MITx---Machine-Learning-with-Python-From-Linear-Models-to-Deep-Learning-Jun-11-2019/Project 0/project0'),\n",
              " PosixPath('/content/MITx---Machine-Learning-with-Python-From-Linear-Models-to-Deep-Learning-Jun-11-2019/Project 0/project0/debug.py'),\n",
              " PosixPath('/content/MITx---Machine-Learning-with-Python-From-Linear-Models-to-Deep-Learning-Jun-11-2019/Project 0/project0/main.py'),\n",
              " PosixPath('/content/MITx---Machine-Learning-with-Python-From-Linear-Models-to-Deep-Learning-Jun-11-2019/Project 0/project0/test.py')]"
            ]
          },
          "metadata": {
            "tags": []
          },
          "execution_count": 16
        }
      ]
    },
    {
      "cell_type": "markdown",
      "metadata": {
        "id": "YmvXi4wkfbuF",
        "colab_type": "text"
      },
      "source": [
        "### Project 1: Automatic Review Analyzer"
      ]
    },
    {
      "cell_type": "code",
      "metadata": {
        "id": "GsOAcq4vfqDJ",
        "colab_type": "code",
        "colab": {
          "base_uri": "https://localhost:8080/",
          "height": 258
        },
        "outputId": "477cd197-0d5e-407c-fa23-5d8429324517"
      },
      "source": [
        "dest = REPO/\"Project 1: Automatic Review Analyzer\"\n",
        "urls = {\"resources_sentiment_analysis.tar.gz\": \"https://prod-edxapp.edx-cdn.org/assets/courseware/v1/d9e1b0bf165a7c7e4458b667ea3d29d6/asset-v1:MITx+6.86x+1T2019+type@asset+block/resources_sentiment_analysis.tar.gz\"}\n",
        "File.runtar(urls[\"resources_sentiment_analysis.tar.gz\"], dest=dest)"
      ],
      "execution_count": 11,
      "outputs": [
        {
          "output_type": "execute_result",
          "data": {
            "text/plain": [
              "[PosixPath('/content/MITx---Machine-Learning-with-Python-From-Linear-Models-to-Deep-Learning-Jun-11-2019/Project 1: Automatic Review Analyzer/sentiment_analysis'),\n",
              " PosixPath('/content/MITx---Machine-Learning-with-Python-From-Linear-Models-to-Deep-Learning-Jun-11-2019/Project 1: Automatic Review Analyzer/sentiment_analysis/200.txt'),\n",
              " PosixPath('/content/MITx---Machine-Learning-with-Python-From-Linear-Models-to-Deep-Learning-Jun-11-2019/Project 1: Automatic Review Analyzer/sentiment_analysis/4000.txt'),\n",
              " PosixPath('/content/MITx---Machine-Learning-with-Python-From-Linear-Models-to-Deep-Learning-Jun-11-2019/Project 1: Automatic Review Analyzer/sentiment_analysis/main.py'),\n",
              " PosixPath('/content/MITx---Machine-Learning-with-Python-From-Linear-Models-to-Deep-Learning-Jun-11-2019/Project 1: Automatic Review Analyzer/sentiment_analysis/project1.py'),\n",
              " PosixPath('/content/MITx---Machine-Learning-with-Python-From-Linear-Models-to-Deep-Learning-Jun-11-2019/Project 1: Automatic Review Analyzer/sentiment_analysis/reviews_submit.tsv'),\n",
              " PosixPath('/content/MITx---Machine-Learning-with-Python-From-Linear-Models-to-Deep-Learning-Jun-11-2019/Project 1: Automatic Review Analyzer/sentiment_analysis/reviews_test.tsv'),\n",
              " PosixPath('/content/MITx---Machine-Learning-with-Python-From-Linear-Models-to-Deep-Learning-Jun-11-2019/Project 1: Automatic Review Analyzer/sentiment_analysis/reviews_train.tsv'),\n",
              " PosixPath('/content/MITx---Machine-Learning-with-Python-From-Linear-Models-to-Deep-Learning-Jun-11-2019/Project 1: Automatic Review Analyzer/sentiment_analysis/reviews_val.tsv'),\n",
              " PosixPath('/content/MITx---Machine-Learning-with-Python-From-Linear-Models-to-Deep-Learning-Jun-11-2019/Project 1: Automatic Review Analyzer/sentiment_analysis/stopwords.txt'),\n",
              " PosixPath('/content/MITx---Machine-Learning-with-Python-From-Linear-Models-to-Deep-Learning-Jun-11-2019/Project 1: Automatic Review Analyzer/sentiment_analysis/test.py'),\n",
              " PosixPath('/content/MITx---Machine-Learning-with-Python-From-Linear-Models-to-Deep-Learning-Jun-11-2019/Project 1: Automatic Review Analyzer/sentiment_analysis/toy_data.tsv'),\n",
              " PosixPath('/content/MITx---Machine-Learning-with-Python-From-Linear-Models-to-Deep-Learning-Jun-11-2019/Project 1: Automatic Review Analyzer/sentiment_analysis/utils.py')]"
            ]
          },
          "metadata": {
            "tags": []
          },
          "execution_count": 11
        }
      ]
    },
    {
      "cell_type": "markdown",
      "metadata": {
        "id": "7ILM4JyuLzue",
        "colab_type": "text"
      },
      "source": [
        "## Push repository"
      ]
    },
    {
      "cell_type": "code",
      "metadata": {
        "id": "RqifDMhBglwC",
        "colab_type": "code",
        "outputId": "58f6e684-55ea-4632-bd13-b4281537b15d",
        "colab": {
          "base_uri": "https://localhost:8080/",
          "height": 496
        }
      },
      "source": [
        "message = \"Move Project 0, Project 1\"\n",
        "\n",
        "# Configure\n",
        "Git.config(confile=CONFILE_GIT)\n",
        "\n",
        "# Track\n",
        "!git add -A\n",
        "\n",
        "# Commit\n",
        "!git commit -m \"{message}\"\n",
        "\n",
        "# Push\n",
        "Git.push(URL, authfile=AUTHFILE_GIT)"
      ],
      "execution_count": 8,
      "outputs": [
        {
          "output_type": "stream",
          "text": [
            "[master a798930] Move Project 0, Project 1\n",
            " 17 files changed, 0 insertions(+), 0 deletions(-)\n",
            " rename {Unit 0 Course Overview, Homework 0, Project 0 (1 week)/project0 => Project 0}/debug.py (100%)\n",
            " rename {Unit 0 Course Overview, Homework 0, Project 0 (1 week)/project0 => Project 0}/main.py (100%)\n",
            " rename {Unit 0 Course Overview, Homework 0, Project 0 (1 week)/project0 => Project 0}/test.py (100%)\n",
            " rename {Unit 1 Linear Classifiers and Generalizations (2 weeks)/Project 1: Automatic Review Analyzer => Project 1: Automatic Review Analyzer}/Project1_Algorithms.ipynb (100%)\n",
            " rename {Unit 1 Linear Classifiers and Generalizations (2 weeks)/Project 1: Automatic Review Analyzer => Project 1: Automatic Review Analyzer}/Project1_Automatic_Review_Analyzer.ipynb (100%)\n",
            " rename {Unit 1 Linear Classifiers and Generalizations (2 weeks)/Project 1: Automatic Review Analyzer => Project 1: Automatic Review Analyzer}/sentiment_analysis/200.txt (100%)\n",
            " rename {Unit 1 Linear Classifiers and Generalizations (2 weeks)/Project 1: Automatic Review Analyzer => Project 1: Automatic Review Analyzer}/sentiment_analysis/4000.txt (100%)\n",
            " rename {Unit 1 Linear Classifiers and Generalizations (2 weeks)/Project 1: Automatic Review Analyzer => Project 1: Automatic Review Analyzer}/sentiment_analysis/main.py (100%)\n",
            " rename {Unit 1 Linear Classifiers and Generalizations (2 weeks)/Project 1: Automatic Review Analyzer => Project 1: Automatic Review Analyzer}/sentiment_analysis/project1.py (100%)\n",
            " rename {Unit 1 Linear Classifiers and Generalizations (2 weeks)/Project 1: Automatic Review Analyzer => Project 1: Automatic Review Analyzer}/sentiment_analysis/reviews_submit.tsv (100%)\n",
            " rename {Unit 1 Linear Classifiers and Generalizations (2 weeks)/Project 1: Automatic Review Analyzer => Project 1: Automatic Review Analyzer}/sentiment_analysis/reviews_test.tsv (100%)\n",
            " rename {Unit 1 Linear Classifiers and Generalizations (2 weeks)/Project 1: Automatic Review Analyzer => Project 1: Automatic Review Analyzer}/sentiment_analysis/reviews_train.tsv (100%)\n",
            " rename {Unit 1 Linear Classifiers and Generalizations (2 weeks)/Project 1: Automatic Review Analyzer => Project 1: Automatic Review Analyzer}/sentiment_analysis/reviews_val.tsv (100%)\n",
            " rename {Unit 1 Linear Classifiers and Generalizations (2 weeks)/Project 1: Automatic Review Analyzer => Project 1: Automatic Review Analyzer}/sentiment_analysis/stopwords.txt (100%)\n",
            " rename {Unit 1 Linear Classifiers and Generalizations (2 weeks)/Project 1: Automatic Review Analyzer => Project 1: Automatic Review Analyzer}/sentiment_analysis/test.py (100%)\n",
            " rename {Unit 1 Linear Classifiers and Generalizations (2 weeks)/Project 1: Automatic Review Analyzer => Project 1: Automatic Review Analyzer}/sentiment_analysis/toy_data.tsv (100%)\n",
            " rename {Unit 1 Linear Classifiers and Generalizations (2 weeks)/Project 1: Automatic Review Analyzer => Project 1: Automatic Review Analyzer}/sentiment_analysis/utils.py (100%)\n",
            "Counting objects: 4, done.\n",
            "Delta compression using up to 2 threads.\n",
            "Compressing objects: 100% (4/4), done.\n",
            "Writing objects: 100% (4/4), 453 bytes | 453.00 KiB/s, done.\n",
            "Total 4 (delta 3), reused 0 (delta 0)\n",
            "remote: Resolving deltas: 100% (3/3), completed with 3 local objects.\u001b[K\n",
            "To https://github.com/Data-Science-and-Data-Analytics-Courses/MITx---Machine-Learning-with-Python-From-Linear-Models-to-Deep-Learning-Jun-11-2019\n",
            "   c74fa10..a798930  HEAD -> master\n"
          ],
          "name": "stdout"
        }
      ]
    }
  ]
}