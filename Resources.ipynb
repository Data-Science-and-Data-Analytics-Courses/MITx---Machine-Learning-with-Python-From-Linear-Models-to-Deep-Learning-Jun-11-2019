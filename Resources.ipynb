{
  "nbformat": 4,
  "nbformat_minor": 0,
  "metadata": {
    "colab": {
      "name": "Resources.ipynb",
      "version": "0.3.2",
      "provenance": [],
      "collapsed_sections": [],
      "include_colab_link": true
    },
    "kernelspec": {
      "name": "python3",
      "display_name": "Python 3"
    },
    "accelerator": "GPU"
  },
  "cells": [
    {
      "cell_type": "markdown",
      "metadata": {
        "id": "view-in-github",
        "colab_type": "text"
      },
      "source": [
        "<a href=\"https://colab.research.google.com/github/Data-Science-and-Data-Analytics-Courses/MITx---Machine-Learning-with-Python-From-Linear-Models-to-Deep-Learning-Jun-11-2019/blob/master/Resources.ipynb\" target=\"_parent\"><img src=\"https://colab.research.google.com/assets/colab-badge.svg\" alt=\"Open In Colab\"/></a>"
      ]
    },
    {
      "cell_type": "markdown",
      "metadata": {
        "id": "fRrOetKsg-RC",
        "colab_type": "text"
      },
      "source": [
        "# Resources\n",
        "\n",
        "---\n",
        "\n"
      ]
    },
    {
      "cell_type": "markdown",
      "metadata": {
        "colab_type": "text",
        "id": "NFlCab3fJ3Gf"
      },
      "source": [
        "## Packages and libraries"
      ]
    },
    {
      "cell_type": "code",
      "metadata": {
        "colab_type": "code",
        "outputId": "d8c5df53-3d1f-4be5-9be2-f0f31d26e13e",
        "id": "Cc80Soh0J3Gn",
        "colab": {
          "base_uri": "https://localhost:8080/",
          "height": 119
        }
      },
      "source": [
        "import sys\n",
        "\n",
        "url = \"https://github.com/Data-Science-and-Data-Analytics-Courses/Notebook-Library\"\n",
        "\n",
        "!git clone \"{url}\" \"/nblib\"\n",
        "%run \"/nblib/.Importable.ipynb\"\n",
        "sys.path.append(\"/\")"
      ],
      "execution_count": 1,
      "outputs": [
        {
          "output_type": "stream",
          "text": [
            "Cloning into '/nblib'...\n",
            "remote: Enumerating objects: 26, done.\u001b[K\n",
            "remote: Counting objects:   3% (1/26)   \u001b[K\rremote: Counting objects:   7% (2/26)   \u001b[K\rremote: Counting objects:  11% (3/26)   \u001b[K\rremote: Counting objects:  15% (4/26)   \u001b[K\rremote: Counting objects:  19% (5/26)   \u001b[K\rremote: Counting objects:  23% (6/26)   \u001b[K\rremote: Counting objects:  26% (7/26)   \u001b[K\rremote: Counting objects:  30% (8/26)   \u001b[K\rremote: Counting objects:  34% (9/26)   \u001b[K\rremote: Counting objects:  38% (10/26)   \u001b[K\rremote: Counting objects:  42% (11/26)   \u001b[K\rremote: Counting objects:  46% (12/26)   \u001b[K\rremote: Counting objects:  50% (13/26)   \u001b[K\rremote: Counting objects:  53% (14/26)   \u001b[K\rremote: Counting objects:  57% (15/26)   \u001b[K\rremote: Counting objects:  61% (16/26)   \u001b[K\rremote: Counting objects:  65% (17/26)   \u001b[K\rremote: Counting objects:  69% (18/26)   \u001b[K\rremote: Counting objects:  73% (19/26)   \u001b[K\rremote: Counting objects:  76% (20/26)   \u001b[K\rremote: Counting objects:  80% (21/26)   \u001b[K\rremote: Counting objects:  84% (22/26)   \u001b[K\rremote: Counting objects:  88% (23/26)   \u001b[K\rremote: Counting objects:  92% (24/26)   \u001b[K\rremote: Counting objects:  96% (25/26)   \u001b[K\rremote: Counting objects: 100% (26/26)   \u001b[K\rremote: Counting objects: 100% (26/26), done.\u001b[K\n",
            "remote: Compressing objects:   4% (1/23)   \u001b[K\rremote: Compressing objects:   8% (2/23)   \u001b[K\rremote: Compressing objects:  13% (3/23)   \u001b[K\rremote: Compressing objects:  17% (4/23)   \u001b[K\rremote: Compressing objects:  21% (5/23)   \u001b[K\rremote: Compressing objects:  26% (6/23)   \u001b[K\rremote: Compressing objects:  30% (7/23)   \u001b[K\rremote: Compressing objects:  34% (8/23)   \u001b[K\rremote: Compressing objects:  39% (9/23)   \u001b[K\rremote: Compressing objects:  43% (10/23)   \u001b[K\rremote: Compressing objects:  47% (11/23)   \u001b[K\rremote: Compressing objects:  52% (12/23)   \u001b[K\rremote: Compressing objects:  56% (13/23)   \u001b[K\rremote: Compressing objects:  60% (14/23)   \u001b[K\rremote: Compressing objects:  65% (15/23)   \u001b[K\rremote: Compressing objects:  69% (16/23)   \u001b[K\rremote: Compressing objects:  73% (17/23)   \u001b[K\rremote: Compressing objects:  78% (18/23)   \u001b[K\rremote: Compressing objects:  82% (19/23)   \u001b[K\rremote: Compressing objects:  86% (20/23)   \u001b[K\rremote: Compressing objects:  91% (21/23)   \u001b[K\rremote: Compressing objects:  95% (22/23)   \u001b[K\rremote: Compressing objects: 100% (23/23)   \u001b[K\rremote: Compressing objects: 100% (23/23), done.\u001b[K\n",
            "remote: Total 26 (delta 12), reused 7 (delta 2), pack-reused 0\u001b[K\n",
            "Unpacking objects:   3% (1/26)   \rUnpacking objects:   7% (2/26)   \rUnpacking objects:  11% (3/26)   \rUnpacking objects:  15% (4/26)   \rUnpacking objects:  19% (5/26)   \rUnpacking objects:  23% (6/26)   \rUnpacking objects:  26% (7/26)   \rUnpacking objects:  30% (8/26)   \rUnpacking objects:  34% (9/26)   \rUnpacking objects:  38% (10/26)   \rUnpacking objects:  42% (11/26)   \rUnpacking objects:  46% (12/26)   \rUnpacking objects:  50% (13/26)   \rUnpacking objects:  53% (14/26)   \rUnpacking objects:  57% (15/26)   \rUnpacking objects:  61% (16/26)   \rUnpacking objects:  65% (17/26)   \rUnpacking objects:  69% (18/26)   \rUnpacking objects:  73% (19/26)   \rUnpacking objects:  76% (20/26)   \rUnpacking objects:  80% (21/26)   \rUnpacking objects:  84% (22/26)   \rUnpacking objects:  88% (23/26)   \rUnpacking objects:  92% (24/26)   \rUnpacking objects:  96% (25/26)   \rUnpacking objects: 100% (26/26)   \rUnpacking objects: 100% (26/26), done.\n"
          ],
          "name": "stdout"
        },
        {
          "output_type": "display_data",
          "data": {
            "text/html": [
              "\n",
              "<style type='text/css'>\n",
              ".hll { background-color: #ffffcc }\n",
              ".c { color: #408080; font-style: italic } /* Comment */\n",
              ".err { border: 1px solid #FF0000 } /* Error */\n",
              ".k { color: #008000; font-weight: bold } /* Keyword */\n",
              ".o { color: #666666 } /* Operator */\n",
              ".ch { color: #408080; font-style: italic } /* Comment.Hashbang */\n",
              ".cm { color: #408080; font-style: italic } /* Comment.Multiline */\n",
              ".cp { color: #BC7A00 } /* Comment.Preproc */\n",
              ".cpf { color: #408080; font-style: italic } /* Comment.PreprocFile */\n",
              ".c1 { color: #408080; font-style: italic } /* Comment.Single */\n",
              ".cs { color: #408080; font-style: italic } /* Comment.Special */\n",
              ".gd { color: #A00000 } /* Generic.Deleted */\n",
              ".ge { font-style: italic } /* Generic.Emph */\n",
              ".gr { color: #FF0000 } /* Generic.Error */\n",
              ".gh { color: #000080; font-weight: bold } /* Generic.Heading */\n",
              ".gi { color: #00A000 } /* Generic.Inserted */\n",
              ".go { color: #888888 } /* Generic.Output */\n",
              ".gp { color: #000080; font-weight: bold } /* Generic.Prompt */\n",
              ".gs { font-weight: bold } /* Generic.Strong */\n",
              ".gu { color: #800080; font-weight: bold } /* Generic.Subheading */\n",
              ".gt { color: #0044DD } /* Generic.Traceback */\n",
              ".kc { color: #008000; font-weight: bold } /* Keyword.Constant */\n",
              ".kd { color: #008000; font-weight: bold } /* Keyword.Declaration */\n",
              ".kn { color: #008000; font-weight: bold } /* Keyword.Namespace */\n",
              ".kp { color: #008000 } /* Keyword.Pseudo */\n",
              ".kr { color: #008000; font-weight: bold } /* Keyword.Reserved */\n",
              ".kt { color: #B00040 } /* Keyword.Type */\n",
              ".m { color: #666666 } /* Literal.Number */\n",
              ".s { color: #BA2121 } /* Literal.String */\n",
              ".na { color: #7D9029 } /* Name.Attribute */\n",
              ".nb { color: #008000 } /* Name.Builtin */\n",
              ".nc { color: #0000FF; font-weight: bold } /* Name.Class */\n",
              ".no { color: #880000 } /* Name.Constant */\n",
              ".nd { color: #AA22FF } /* Name.Decorator */\n",
              ".ni { color: #999999; font-weight: bold } /* Name.Entity */\n",
              ".ne { color: #D2413A; font-weight: bold } /* Name.Exception */\n",
              ".nf { color: #0000FF } /* Name.Function */\n",
              ".nl { color: #A0A000 } /* Name.Label */\n",
              ".nn { color: #0000FF; font-weight: bold } /* Name.Namespace */\n",
              ".nt { color: #008000; font-weight: bold } /* Name.Tag */\n",
              ".nv { color: #19177C } /* Name.Variable */\n",
              ".ow { color: #AA22FF; font-weight: bold } /* Operator.Word */\n",
              ".w { color: #bbbbbb } /* Text.Whitespace */\n",
              ".mb { color: #666666 } /* Literal.Number.Bin */\n",
              ".mf { color: #666666 } /* Literal.Number.Float */\n",
              ".mh { color: #666666 } /* Literal.Number.Hex */\n",
              ".mi { color: #666666 } /* Literal.Number.Integer */\n",
              ".mo { color: #666666 } /* Literal.Number.Oct */\n",
              ".sb { color: #BA2121 } /* Literal.String.Backtick */\n",
              ".sc { color: #BA2121 } /* Literal.String.Char */\n",
              ".sd { color: #BA2121; font-style: italic } /* Literal.String.Doc */\n",
              ".s2 { color: #BA2121 } /* Literal.String.Double */\n",
              ".se { color: #BB6622; font-weight: bold } /* Literal.String.Escape */\n",
              ".sh { color: #BA2121 } /* Literal.String.Heredoc */\n",
              ".si { color: #BB6688; font-weight: bold } /* Literal.String.Interpol */\n",
              ".sx { color: #008000 } /* Literal.String.Other */\n",
              ".sr { color: #BB6688 } /* Literal.String.Regex */\n",
              ".s1 { color: #BA2121 } /* Literal.String.Single */\n",
              ".ss { color: #19177C } /* Literal.String.Symbol */\n",
              ".bp { color: #008000 } /* Name.Builtin.Pseudo */\n",
              ".vc { color: #19177C } /* Name.Variable.Class */\n",
              ".vg { color: #19177C } /* Name.Variable.Global */\n",
              ".vi { color: #19177C } /* Name.Variable.Instance */\n",
              ".il { color: #666666 } /* Literal.Number.Integer.Long */\n",
              "</style>\n"
            ],
            "text/plain": [
              "<IPython.core.display.HTML object>"
            ]
          },
          "metadata": {
            "tags": []
          }
        }
      ]
    },
    {
      "cell_type": "code",
      "metadata": {
        "colab_type": "code",
        "id": "FpDB3HAlJ3Gz",
        "colab": {}
      },
      "source": [
        "from pathlib import Path\n",
        "\n",
        "from google.colab import drive\n",
        "from nblib import Git\n",
        "\n",
        "DRIVE = Path(\"/drive\", \"My Drive\")\n",
        "drive.mount(DRIVE.parent.as_posix())\n",
        "CONFILE_GIT = DRIVE/\"GitHub\"/\"config.json\" # path to GitHub configuration file\n",
        "AUTHFILE_GIT = DRIVE/\"GitHub\"/\"login.json\" # path to GitHub authentication file\n",
        "\n",
        "URL = \"https://github.com/Data-Science-and-Data-Analytics-Courses/MITx---Machine-Learning-with-Python-From-Linear-Models-to-Deep-Learning-Jun-11-2019\"\n",
        "nbdir_rel = \"\"\n",
        "REPO = Git.clone(URL)\n",
        "NBDIR = REPO/nbdir_rel\n",
        "os.chdir(NBDIR)"
      ],
      "execution_count": 0,
      "outputs": []
    },
    {
      "cell_type": "code",
      "metadata": {
        "id": "PTGAoWPVKhi1",
        "colab_type": "code",
        "colab": {
          "base_uri": "https://localhost:8080/",
          "height": 34
        },
        "outputId": "5030b53b-452d-4c0a-d4aa-8a3a223b940d"
      },
      "source": [
        "from nblib import File"
      ],
      "execution_count": 4,
      "outputs": [
        {
          "output_type": "stream",
          "text": [
            "importing Jupyter notebook from /nblib/File.ipynb\n"
          ],
          "name": "stdout"
        }
      ]
    },
    {
      "cell_type": "markdown",
      "metadata": {
        "colab_type": "text",
        "id": "5sl8tFrDP67Z"
      },
      "source": [
        "## Resources\n"
      ]
    },
    {
      "cell_type": "markdown",
      "metadata": {
        "id": "8m8pxnoQL417",
        "colab_type": "text"
      },
      "source": [
        "### Unit 0 Course Overview, Homework 0, Project 0 (1 week)\n",
        "[Introduction to ML packages (part 1)](https://github.com/Varal7/ml-tutorial/blob/master/Part1.ipynb)  \n",
        "[Introduction to ML packages (part 2)](https://nbviewer.jupyter.org/github/Varal7/ml-tutorial/blob/master/Part2.ipynb)  \n"
      ]
    },
    {
      "cell_type": "code",
      "metadata": {
        "id": "m2-KD_l-Ma3r",
        "colab_type": "code",
        "outputId": "ed753ea3-af91-4659-df6c-00c01947eac4",
        "colab": {
          "base_uri": "https://localhost:8080/",
          "height": 139
        }
      },
      "source": [
        "dest = Path(\"Unit 0 Course Overview, Homework 0, Project 0 (1 week)\")\n",
        "\n",
        "urls = {\"resources_calendar_2T2019.pdf\": \"https://courses.edx.org/asset-v1:MITx+6.86x+1T2019+type@asset+block@resources_calendar_2T2019.pdf\",\n",
        "        \"resources_syllabus_schedule_2T2019.pdf\": \"https://courses.edx.org/asset-v1:MITx+6.86x+1T2019+type@asset+block@resources_syllabus_schedule_2T2019.pdf\"}\n",
        "for name, url in urls.items():\n",
        "  File.download(url, dest=dest, name=name)\n",
        "\n",
        "urls = {\"resources_project0.tar.gz\": \"https://prod-edxapp.edx-cdn.org/assets/courseware/v1/cae5959d5cff65ed9c7fdb0c3b59ba02/asset-v1:MITx+6.86x+1T2019+type@asset+block/resources_project0.tar.gz\"}\n",
        "File.runtar(urls[\"resources_project0.tar.gz\"], dest=dest)"
      ],
      "execution_count": 18,
      "outputs": [
        {
          "output_type": "stream",
          "text": [
            "######################################################################## 100.0%\n",
            "######################################################################## 100.0%\n"
          ],
          "name": "stdout"
        },
        {
          "output_type": "execute_result",
          "data": {
            "text/plain": [
              "[PosixPath('/content/MITx---Machine-Learning-with-Python-From-Linear-Models-to-Deep-Learning-Jun-11-2019/Unit 0 Course Overview, Homework 0, Project 0 (1 week)/project0'),\n",
              " PosixPath('/content/MITx---Machine-Learning-with-Python-From-Linear-Models-to-Deep-Learning-Jun-11-2019/Unit 0 Course Overview, Homework 0, Project 0 (1 week)/project0/debug.py'),\n",
              " PosixPath('/content/MITx---Machine-Learning-with-Python-From-Linear-Models-to-Deep-Learning-Jun-11-2019/Unit 0 Course Overview, Homework 0, Project 0 (1 week)/project0/main.py'),\n",
              " PosixPath('/content/MITx---Machine-Learning-with-Python-From-Linear-Models-to-Deep-Learning-Jun-11-2019/Unit 0 Course Overview, Homework 0, Project 0 (1 week)/project0/test.py')]"
            ]
          },
          "metadata": {
            "tags": []
          },
          "execution_count": 18
        }
      ]
    },
    {
      "cell_type": "markdown",
      "metadata": {
        "colab_type": "text",
        "id": "RgU5BD-9OzVy"
      },
      "source": [
        "### Unit 1 Linear Classifiers and Generalizations (2 weeks)\n",
        "[Perceptron Mistake Bounds](https://arxiv.org/pdf/1305.0208.pdf)  \n"
      ]
    },
    {
      "cell_type": "code",
      "metadata": {
        "id": "94_XdZ6tnRSV",
        "colab_type": "code",
        "outputId": "e9f5449c-eb7f-43bb-ebf4-e5ada1918ac7",
        "colab": {
          "base_uri": "https://localhost:8080/",
          "height": 258
        }
      },
      "source": [
        "dest = Path(\"Unit 1 Linear Classifiers and Generalizations (2 weeks)\")\n",
        "\n",
        "urls = {\"slides_lecture1.pdf\": \"https://courses.edx.org/asset-v1:MITx+6.86x+1T2019+type@asset+block@slides_lecture1.pdf\",\n",
        "        \"slides_lecture2.pdf\": \"https://courses.edx.org/asset-v1:MITx+6.86x+1T2019+type@asset+block@slides_lecture2.pdf\",\n",
        "        \"slides_lecture3.pdf\": \"https://courses.edx.org/asset-v1:MITx+6.86x+1T2019+type@asset+block@slides_lecture3.pdf\",\n",
        "        \"slides_lecture4.pdf\": \"https://courses.edx.org/asset-v1:MITx+6.86x+1T2019+type@asset+block@slides_lecture4.pdf\"}\n",
        "for name, url in urls.items():\n",
        "  File.download(url, dest=dest, name=name)\n",
        "\n",
        "urls = {\"resources_sentiment_analysis.tar.gz\": \"https://prod-edxapp.edx-cdn.org/assets/courseware/v1/d9e1b0bf165a7c7e4458b667ea3d29d6/asset-v1:MITx+6.86x+1T2019+type@asset+block/resources_sentiment_analysis.tar.gz\"}\n",
        "File.runtar(urls[\"resources_sentiment_analysis.tar.gz\"], dest=dest/\"Project 1: Automatic Review Analyzer\")"
      ],
      "execution_count": 10,
      "outputs": [
        {
          "output_type": "execute_result",
          "data": {
            "text/plain": [
              "[PosixPath('/content/MITx---Machine-Learning-with-Python-From-Linear-Models-to-Deep-Learning-Jun-11-2019/Unit 1 Linear Classifiers and Generalizations (2 weeks)/Project 1: Automatic Review Analyzer/sentiment_analysis'),\n",
              " PosixPath('/content/MITx---Machine-Learning-with-Python-From-Linear-Models-to-Deep-Learning-Jun-11-2019/Unit 1 Linear Classifiers and Generalizations (2 weeks)/Project 1: Automatic Review Analyzer/sentiment_analysis/200.txt'),\n",
              " PosixPath('/content/MITx---Machine-Learning-with-Python-From-Linear-Models-to-Deep-Learning-Jun-11-2019/Unit 1 Linear Classifiers and Generalizations (2 weeks)/Project 1: Automatic Review Analyzer/sentiment_analysis/4000.txt'),\n",
              " PosixPath('/content/MITx---Machine-Learning-with-Python-From-Linear-Models-to-Deep-Learning-Jun-11-2019/Unit 1 Linear Classifiers and Generalizations (2 weeks)/Project 1: Automatic Review Analyzer/sentiment_analysis/main.py'),\n",
              " PosixPath('/content/MITx---Machine-Learning-with-Python-From-Linear-Models-to-Deep-Learning-Jun-11-2019/Unit 1 Linear Classifiers and Generalizations (2 weeks)/Project 1: Automatic Review Analyzer/sentiment_analysis/project1.py'),\n",
              " PosixPath('/content/MITx---Machine-Learning-with-Python-From-Linear-Models-to-Deep-Learning-Jun-11-2019/Unit 1 Linear Classifiers and Generalizations (2 weeks)/Project 1: Automatic Review Analyzer/sentiment_analysis/reviews_submit.tsv'),\n",
              " PosixPath('/content/MITx---Machine-Learning-with-Python-From-Linear-Models-to-Deep-Learning-Jun-11-2019/Unit 1 Linear Classifiers and Generalizations (2 weeks)/Project 1: Automatic Review Analyzer/sentiment_analysis/reviews_test.tsv'),\n",
              " PosixPath('/content/MITx---Machine-Learning-with-Python-From-Linear-Models-to-Deep-Learning-Jun-11-2019/Unit 1 Linear Classifiers and Generalizations (2 weeks)/Project 1: Automatic Review Analyzer/sentiment_analysis/reviews_train.tsv'),\n",
              " PosixPath('/content/MITx---Machine-Learning-with-Python-From-Linear-Models-to-Deep-Learning-Jun-11-2019/Unit 1 Linear Classifiers and Generalizations (2 weeks)/Project 1: Automatic Review Analyzer/sentiment_analysis/reviews_val.tsv'),\n",
              " PosixPath('/content/MITx---Machine-Learning-with-Python-From-Linear-Models-to-Deep-Learning-Jun-11-2019/Unit 1 Linear Classifiers and Generalizations (2 weeks)/Project 1: Automatic Review Analyzer/sentiment_analysis/stopwords.txt'),\n",
              " PosixPath('/content/MITx---Machine-Learning-with-Python-From-Linear-Models-to-Deep-Learning-Jun-11-2019/Unit 1 Linear Classifiers and Generalizations (2 weeks)/Project 1: Automatic Review Analyzer/sentiment_analysis/test.py'),\n",
              " PosixPath('/content/MITx---Machine-Learning-with-Python-From-Linear-Models-to-Deep-Learning-Jun-11-2019/Unit 1 Linear Classifiers and Generalizations (2 weeks)/Project 1: Automatic Review Analyzer/sentiment_analysis/toy_data.tsv'),\n",
              " PosixPath('/content/MITx---Machine-Learning-with-Python-From-Linear-Models-to-Deep-Learning-Jun-11-2019/Unit 1 Linear Classifiers and Generalizations (2 weeks)/Project 1: Automatic Review Analyzer/sentiment_analysis/utils.py')]"
            ]
          },
          "metadata": {
            "tags": []
          },
          "execution_count": 10
        }
      ]
    },
    {
      "cell_type": "markdown",
      "metadata": {
        "colab_type": "text",
        "id": "R9Zo-Li5UG7d"
      },
      "source": [
        "### Unit 2 Nonlinear Classification, Linear regression, Collaborative Filtering (2 weeks)\n"
      ]
    },
    {
      "cell_type": "code",
      "metadata": {
        "id": "Bz5LgvJlT8e0",
        "colab_type": "code",
        "colab": {
          "base_uri": "https://localhost:8080/",
          "height": 34
        },
        "outputId": "37ff9022-b538-474f-dcd9-718ab9ae0802"
      },
      "source": [
        "dest = Path(\"Unit 2 Nonlinear Classification, Linear regression, Collaborative Filtering (2 weeks)\")\n",
        "\n",
        "urls = {\"slides_lecture7.pdf\": \"https://courses.edx.org/asset-v1:MITx+6.86x+1T2019+type@asset+block@slides_lecture7.pdf\"}\n",
        "for name, url in urls.items():\n",
        "  File.download(url, dest=dest, name=name)"
      ],
      "execution_count": 16,
      "outputs": [
        {
          "output_type": "stream",
          "text": [
            "#=#=#                                                                         \r##O#- #                                                                       \r\n"
          ],
          "name": "stdout"
        }
      ]
    },
    {
      "cell_type": "markdown",
      "metadata": {
        "id": "7ILM4JyuLzue",
        "colab_type": "text"
      },
      "source": [
        "## Push repository"
      ]
    },
    {
      "cell_type": "code",
      "metadata": {
        "id": "RqifDMhBglwC",
        "colab_type": "code",
        "outputId": "1dea01c8-59cc-4f11-d6ee-f97136cc2dae",
        "colab": {
          "base_uri": "https://localhost:8080/",
          "height": 221
        }
      },
      "source": [
        "message = \"Update Unit 0\"\n",
        "\n",
        "# Configure\n",
        "Git.config(confile=CONFILE_GIT)\n",
        "\n",
        "# Track\n",
        "!git add -A\n",
        "\n",
        "# Commit\n",
        "!git commit -m \"{message}\"\n",
        "\n",
        "# Push\n",
        "Git.push(URL, authfile=AUTHFILE_GIT)"
      ],
      "execution_count": 19,
      "outputs": [
        {
          "output_type": "stream",
          "text": [
            "[master 3921b13] Update Unit 0\n",
            " 2 files changed, 0 insertions(+), 0 deletions(-)\n",
            " create mode 100644 Unit 0 Course Overview, Homework 0, Project 0 (1 week)/resources_calendar_2T2019.pdf\n",
            " create mode 100644 Unit 0 Course Overview, Homework 0, Project 0 (1 week)/resources_syllabus_schedule_2T2019.pdf\n",
            "Counting objects: 5, done.\n",
            "Delta compression using up to 2 threads.\n",
            "Compressing objects: 100% (5/5), done.\n",
            "Writing objects: 100% (5/5), 104.38 KiB | 26.09 MiB/s, done.\n",
            "Total 5 (delta 1), reused 0 (delta 0)\n",
            "remote: Resolving deltas: 100% (1/1), completed with 1 local object.\u001b[K\n",
            "To https://github.com/Data-Science-and-Data-Analytics-Courses/MITx---Machine-Learning-with-Python-From-Linear-Models-to-Deep-Learning-Jun-11-2019\n",
            "   be2927f..3921b13  HEAD -> master\n"
          ],
          "name": "stdout"
        }
      ]
    }
  ]
}