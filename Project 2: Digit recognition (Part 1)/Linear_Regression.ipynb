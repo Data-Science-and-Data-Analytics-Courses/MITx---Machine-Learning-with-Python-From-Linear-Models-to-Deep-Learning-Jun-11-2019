{
  "nbformat": 4,
  "nbformat_minor": 0,
  "metadata": {
    "colab": {
      "name": "Linear_Regression.ipynb",
      "version": "0.3.2",
      "provenance": [],
      "collapsed_sections": [],
      "include_colab_link": true
    },
    "kernelspec": {
      "name": "python3",
      "display_name": "Python 3"
    },
    "accelerator": "GPU"
  },
  "cells": [
    {
      "cell_type": "markdown",
      "metadata": {
        "id": "view-in-github",
        "colab_type": "text"
      },
      "source": [
        "<a href=\"https://colab.research.google.com/github/Data-Science-and-Data-Analytics-Courses/MITx---Machine-Learning-with-Python-From-Linear-Models-to-Deep-Learning-Jun-11-2019/blob/master/Project%202%3A%20Digit%20recognition%20(Part%201)/Linear_Regression.ipynb\" target=\"_parent\"><img src=\"https://colab.research.google.com/assets/colab-badge.svg\" alt=\"Open In Colab\"/></a>"
      ]
    },
    {
      "cell_type": "markdown",
      "metadata": {
        "id": "-jKf749g6256",
        "colab_type": "text"
      },
      "source": [
        "# Linear Regression\n",
        "\n",
        "---\n",
        "\n"
      ]
    },
    {
      "cell_type": "markdown",
      "metadata": {
        "id": "LiqX2dH_HnE0",
        "colab_type": "text"
      },
      "source": [
        "## Setup"
      ]
    },
    {
      "cell_type": "code",
      "metadata": {
        "colab_type": "code",
        "id": "Xw3SOTRf9Nz_",
        "colab": {}
      },
      "source": [
        "import os, sys\n",
        "from pathlib import Path\n",
        "\n",
        "# Notebook Library\n",
        "url = \"https://github.com/Data-Science-and-Data-Analytics-Courses/Notebook-Library\"\n",
        "repo = Path(\"/nblib\")\n",
        "!git clone \"{url}\" \"{repo}\"\n",
        "if repo.parent.as_posix() not in sys.path:\n",
        "  sys.path.append(repo.parent.as_posix())\n",
        "%run \"{repo}/.Importable.ipynb\"\n",
        "\n",
        "from nblib import Git\n",
        "# Remote\n",
        "URL = \"https://github.com/Data-Science-and-Data-Analytics-Courses/MITx---Machine-Learning-with-Python-From-Linear-Models-to-Deep-Learning-Jun-11-2019\"\n",
        "REPO = Git.clone(URL, dest=\"/content\")\n",
        "if REPO.as_posix() not in sys.path:\n",
        "  sys.path.append(REPO.as_posix())\n",
        "\n",
        "# Working directory\n",
        "NBDIR = REPO / \"Project 2: Digit recognition (Part 1)/\"\n",
        "os.chdir(NBDIR)\n",
        "\n",
        "from setup.Setup import *"
      ],
      "execution_count": 0,
      "outputs": []
    },
    {
      "cell_type": "markdown",
      "metadata": {
        "id": "PwYhRjtqgiMC",
        "colab_type": "text"
      },
      "source": [
        "## Closed Form Solution of Linear Regression\n"
      ]
    },
    {
      "cell_type": "code",
      "metadata": {
        "id": "74alqoxjhesw",
        "colab_type": "code",
        "colab": {}
      },
      "source": [
        "def closed_form(X, Y, lambda_factor):\n",
        "    \"\"\"\n",
        "    Computes the closed form solution of linear regression with L2 regularization\n",
        "\n",
        "    Args:\n",
        "        X - (n, d + 1) NumPy array (n datapoints each with d features plus the bias feature in the first dimension)\n",
        "        Y - (n, ) NumPy array containing the labels (a number from 0-9) for each\n",
        "            data point\n",
        "        lambda_factor - the regularization constant (scalar)\n",
        "    Returns:\n",
        "        theta - (d + 1, ) NumPy array containing the weights of linear regression. Note that theta[0]\n",
        "        represents the y-axis intercept of the model and therefore X[0] = 1\n",
        "    \"\"\"\n",
        "    # YOUR CODE HERE\n",
        "    n, d = X.shape # number of data points, number of dimensions including offset\n",
        "    XT = X.T\n",
        "    XTX = X.T.dot(X)\n",
        "    theta = np.linalg.inv(XTX + lambda_factor*np.eye(d)).dot(XT).dot(Y)\n",
        "    \n",
        "    return theta"
      ],
      "execution_count": 0,
      "outputs": []
    }
  ]
}