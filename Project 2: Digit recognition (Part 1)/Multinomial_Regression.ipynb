{
  "nbformat": 4,
  "nbformat_minor": 0,
  "metadata": {
    "colab": {
      "name": "Multinomial_Regression.ipynb",
      "version": "0.3.2",
      "provenance": [],
      "collapsed_sections": [],
      "include_colab_link": true
    },
    "kernelspec": {
      "name": "python3",
      "display_name": "Python 3"
    },
    "accelerator": "GPU"
  },
  "cells": [
    {
      "cell_type": "markdown",
      "metadata": {
        "id": "view-in-github",
        "colab_type": "text"
      },
      "source": [
        "<a href=\"https://colab.research.google.com/github/Data-Science-and-Data-Analytics-Courses/MITx---Machine-Learning-with-Python-From-Linear-Models-to-Deep-Learning-Jun-11-2019/blob/master/Project%202%3A%20Digit%20recognition%20(Part%201)/Multinomial_Regression.ipynb\" target=\"_parent\"><img src=\"https://colab.research.google.com/assets/colab-badge.svg\" alt=\"Open In Colab\"/></a>"
      ]
    },
    {
      "cell_type": "markdown",
      "metadata": {
        "id": "-jKf749g6256",
        "colab_type": "text"
      },
      "source": [
        "# Multinomial (Softmax) Regression and Gradient Descent\n",
        "\n",
        "\n",
        "---\n",
        "\n"
      ]
    },
    {
      "cell_type": "markdown",
      "metadata": {
        "id": "LiqX2dH_HnE0",
        "colab_type": "text"
      },
      "source": [
        "## Setup"
      ]
    },
    {
      "cell_type": "code",
      "metadata": {
        "colab_type": "code",
        "id": "Xw3SOTRf9Nz_",
        "outputId": "1b07f5ed-1718-47fc-cdcc-73169c26e003",
        "colab": {
          "base_uri": "https://localhost:8080/",
          "height": 523
        }
      },
      "source": [
        "import os, sys\n",
        "from pathlib import Path\n",
        "\n",
        "# Notebook Library\n",
        "url = \"https://github.com/Data-Science-and-Data-Analytics-Courses/Notebook-Library\"\n",
        "repo = Path(\"/nblib\")\n",
        "!git clone \"{url}\" \"{repo}\"\n",
        "if repo.parent.as_posix() not in sys.path:\n",
        "  sys.path.append(repo.parent.as_posix())\n",
        "%run \"{repo}/.Importable.ipynb\"\n",
        "\n",
        "from nblib import Git\n",
        "# Remote\n",
        "URL = \"https://github.com/Data-Science-and-Data-Analytics-Courses/MITx---Machine-Learning-with-Python-From-Linear-Models-to-Deep-Learning-Jun-11-2019\"\n",
        "REPO = Git.clone(URL, dest=\"/content\")\n",
        "if REPO.as_posix() not in sys.path:\n",
        "  sys.path.append(REPO.as_posix())\n",
        "\n",
        "# Working directory, for running modules in part1\n",
        "part1dir = REPO / \"Project 2: Digit recognition (Part 1)/mnist/part1\"\n",
        "os.chdir(part1dir)\n",
        "\n",
        "from setup.Setup import *\n",
        "import main"
      ],
      "execution_count": 1,
      "outputs": [
        {
          "output_type": "stream",
          "text": [
            "Cloning into '/nblib'...\n",
            "remote: Enumerating objects: 32, done.\u001b[K\n",
            "remote: Counting objects:   3% (1/32)   \u001b[K\rremote: Counting objects:   6% (2/32)   \u001b[K\rremote: Counting objects:   9% (3/32)   \u001b[K\rremote: Counting objects:  12% (4/32)   \u001b[K\rremote: Counting objects:  15% (5/32)   \u001b[K\rremote: Counting objects:  18% (6/32)   \u001b[K\rremote: Counting objects:  21% (7/32)   \u001b[K\rremote: Counting objects:  25% (8/32)   \u001b[K\rremote: Counting objects:  28% (9/32)   \u001b[K\rremote: Counting objects:  31% (10/32)   \u001b[K\rremote: Counting objects:  34% (11/32)   \u001b[K\rremote: Counting objects:  37% (12/32)   \u001b[K\rremote: Counting objects:  40% (13/32)   \u001b[K\rremote: Counting objects:  43% (14/32)   \u001b[K\rremote: Counting objects:  46% (15/32)   \u001b[K\rremote: Counting objects:  50% (16/32)   \u001b[K\rremote: Counting objects:  53% (17/32)   \u001b[K\rremote: Counting objects:  56% (18/32)   \u001b[K\rremote: Counting objects:  59% (19/32)   \u001b[K\rremote: Counting objects:  62% (20/32)   \u001b[K\rremote: Counting objects:  65% (21/32)   \u001b[K\rremote: Counting objects:  68% (22/32)   \u001b[K\rremote: Counting objects:  71% (23/32)   \u001b[K\rremote: Counting objects:  75% (24/32)   \u001b[K\rremote: Counting objects:  78% (25/32)   \u001b[K\rremote: Counting objects:  81% (26/32)   \u001b[K\rremote: Counting objects:  84% (27/32)   \u001b[K\rremote: Counting objects:  87% (28/32)   \u001b[K\rremote: Counting objects:  90% (29/32)   \u001b[K\rremote: Counting objects:  93% (30/32)   \u001b[K\rremote: Counting objects:  96% (31/32)   \u001b[K\rremote: Counting objects: 100% (32/32)   \u001b[K\rremote: Counting objects: 100% (32/32), done.\u001b[K\n",
            "remote: Compressing objects:   3% (1/29)   \u001b[K\rremote: Compressing objects:   6% (2/29)   \u001b[K\rremote: Compressing objects:  10% (3/29)   \u001b[K\rremote: Compressing objects:  13% (4/29)   \u001b[K\rremote: Compressing objects:  17% (5/29)   \u001b[K\rremote: Compressing objects:  20% (6/29)   \u001b[K\rremote: Compressing objects:  24% (7/29)   \u001b[K\rremote: Compressing objects:  27% (8/29)   \u001b[K\rremote: Compressing objects:  31% (9/29)   \u001b[K\rremote: Compressing objects:  34% (10/29)   \u001b[K\rremote: Compressing objects:  37% (11/29)   \u001b[K\rremote: Compressing objects:  41% (12/29)   \u001b[K\rremote: Compressing objects:  44% (13/29)   \u001b[K\rremote: Compressing objects:  48% (14/29)   \u001b[K\rremote: Compressing objects:  51% (15/29)   \u001b[K\rremote: Compressing objects:  55% (16/29)   \u001b[K\rremote: Compressing objects:  58% (17/29)   \u001b[K\rremote: Compressing objects:  62% (18/29)   \u001b[K\rremote: Compressing objects:  65% (19/29)   \u001b[K\rremote: Compressing objects:  68% (20/29)   \u001b[K\rremote: Compressing objects:  72% (21/29)   \u001b[K\rremote: Compressing objects:  75% (22/29)   \u001b[K\rremote: Compressing objects:  79% (23/29)   \u001b[K\rremote: Compressing objects:  82% (24/29)   \u001b[K\rremote: Compressing objects:  86% (25/29)   \u001b[K\rremote: Compressing objects:  89% (26/29)   \u001b[K\rremote: Compressing objects:  93% (27/29)   \u001b[K\rremote: Compressing objects:  96% (28/29)   \u001b[K\rremote: Compressing objects: 100% (29/29)   \u001b[K\rremote: Compressing objects: 100% (29/29), done.\u001b[K\n",
            "remote: Total 32 (delta 15), reused 7 (delta 2), pack-reused 0\u001b[K\n",
            "Unpacking objects:   3% (1/32)   \rUnpacking objects:   6% (2/32)   \rUnpacking objects:   9% (3/32)   \rUnpacking objects:  12% (4/32)   \rUnpacking objects:  15% (5/32)   \rUnpacking objects:  18% (6/32)   \rUnpacking objects:  21% (7/32)   \rUnpacking objects:  25% (8/32)   \rUnpacking objects:  28% (9/32)   \rUnpacking objects:  31% (10/32)   \rUnpacking objects:  34% (11/32)   \rUnpacking objects:  37% (12/32)   \rUnpacking objects:  40% (13/32)   \rUnpacking objects:  43% (14/32)   \rUnpacking objects:  46% (15/32)   \rUnpacking objects:  50% (16/32)   \rUnpacking objects:  53% (17/32)   \rUnpacking objects:  56% (18/32)   \rUnpacking objects:  59% (19/32)   \rUnpacking objects:  62% (20/32)   \rUnpacking objects:  65% (21/32)   \rUnpacking objects:  68% (22/32)   \rUnpacking objects:  71% (23/32)   \rUnpacking objects:  75% (24/32)   \rUnpacking objects:  78% (25/32)   \rUnpacking objects:  81% (26/32)   \rUnpacking objects:  84% (27/32)   \rUnpacking objects:  87% (28/32)   \rUnpacking objects:  90% (29/32)   \rUnpacking objects:  93% (30/32)   \rUnpacking objects:  96% (31/32)   \rUnpacking objects: 100% (32/32)   \rUnpacking objects: 100% (32/32), done.\n"
          ],
          "name": "stdout"
        },
        {
          "output_type": "display_data",
          "data": {
            "text/html": [
              "\n",
              "<style type='text/css'>\n",
              ".hll { background-color: #ffffcc }\n",
              ".c { color: #408080; font-style: italic } /* Comment */\n",
              ".err { border: 1px solid #FF0000 } /* Error */\n",
              ".k { color: #008000; font-weight: bold } /* Keyword */\n",
              ".o { color: #666666 } /* Operator */\n",
              ".ch { color: #408080; font-style: italic } /* Comment.Hashbang */\n",
              ".cm { color: #408080; font-style: italic } /* Comment.Multiline */\n",
              ".cp { color: #BC7A00 } /* Comment.Preproc */\n",
              ".cpf { color: #408080; font-style: italic } /* Comment.PreprocFile */\n",
              ".c1 { color: #408080; font-style: italic } /* Comment.Single */\n",
              ".cs { color: #408080; font-style: italic } /* Comment.Special */\n",
              ".gd { color: #A00000 } /* Generic.Deleted */\n",
              ".ge { font-style: italic } /* Generic.Emph */\n",
              ".gr { color: #FF0000 } /* Generic.Error */\n",
              ".gh { color: #000080; font-weight: bold } /* Generic.Heading */\n",
              ".gi { color: #00A000 } /* Generic.Inserted */\n",
              ".go { color: #888888 } /* Generic.Output */\n",
              ".gp { color: #000080; font-weight: bold } /* Generic.Prompt */\n",
              ".gs { font-weight: bold } /* Generic.Strong */\n",
              ".gu { color: #800080; font-weight: bold } /* Generic.Subheading */\n",
              ".gt { color: #0044DD } /* Generic.Traceback */\n",
              ".kc { color: #008000; font-weight: bold } /* Keyword.Constant */\n",
              ".kd { color: #008000; font-weight: bold } /* Keyword.Declaration */\n",
              ".kn { color: #008000; font-weight: bold } /* Keyword.Namespace */\n",
              ".kp { color: #008000 } /* Keyword.Pseudo */\n",
              ".kr { color: #008000; font-weight: bold } /* Keyword.Reserved */\n",
              ".kt { color: #B00040 } /* Keyword.Type */\n",
              ".m { color: #666666 } /* Literal.Number */\n",
              ".s { color: #BA2121 } /* Literal.String */\n",
              ".na { color: #7D9029 } /* Name.Attribute */\n",
              ".nb { color: #008000 } /* Name.Builtin */\n",
              ".nc { color: #0000FF; font-weight: bold } /* Name.Class */\n",
              ".no { color: #880000 } /* Name.Constant */\n",
              ".nd { color: #AA22FF } /* Name.Decorator */\n",
              ".ni { color: #999999; font-weight: bold } /* Name.Entity */\n",
              ".ne { color: #D2413A; font-weight: bold } /* Name.Exception */\n",
              ".nf { color: #0000FF } /* Name.Function */\n",
              ".nl { color: #A0A000 } /* Name.Label */\n",
              ".nn { color: #0000FF; font-weight: bold } /* Name.Namespace */\n",
              ".nt { color: #008000; font-weight: bold } /* Name.Tag */\n",
              ".nv { color: #19177C } /* Name.Variable */\n",
              ".ow { color: #AA22FF; font-weight: bold } /* Operator.Word */\n",
              ".w { color: #bbbbbb } /* Text.Whitespace */\n",
              ".mb { color: #666666 } /* Literal.Number.Bin */\n",
              ".mf { color: #666666 } /* Literal.Number.Float */\n",
              ".mh { color: #666666 } /* Literal.Number.Hex */\n",
              ".mi { color: #666666 } /* Literal.Number.Integer */\n",
              ".mo { color: #666666 } /* Literal.Number.Oct */\n",
              ".sb { color: #BA2121 } /* Literal.String.Backtick */\n",
              ".sc { color: #BA2121 } /* Literal.String.Char */\n",
              ".sd { color: #BA2121; font-style: italic } /* Literal.String.Doc */\n",
              ".s2 { color: #BA2121 } /* Literal.String.Double */\n",
              ".se { color: #BB6622; font-weight: bold } /* Literal.String.Escape */\n",
              ".sh { color: #BA2121 } /* Literal.String.Heredoc */\n",
              ".si { color: #BB6688; font-weight: bold } /* Literal.String.Interpol */\n",
              ".sx { color: #008000 } /* Literal.String.Other */\n",
              ".sr { color: #BB6688 } /* Literal.String.Regex */\n",
              ".s1 { color: #BA2121 } /* Literal.String.Single */\n",
              ".ss { color: #19177C } /* Literal.String.Symbol */\n",
              ".bp { color: #008000 } /* Name.Builtin.Pseudo */\n",
              ".vc { color: #19177C } /* Name.Variable.Class */\n",
              ".vg { color: #19177C } /* Name.Variable.Global */\n",
              ".vi { color: #19177C } /* Name.Variable.Instance */\n",
              ".il { color: #666666 } /* Literal.Number.Integer.Long */\n",
              "</style>\n"
            ],
            "text/plain": [
              "<IPython.core.display.HTML object>"
            ]
          },
          "metadata": {
            "tags": []
          }
        },
        {
          "output_type": "stream",
          "text": [
            "importing Jupyter notebook from /nblib/Git.ipynb\n",
            "Cloning into '/content/MITx---Machine-Learning-with-Python-From-Linear-Models-to-Deep-Learning-Jun-11-2019'...\n",
            "remote: Enumerating objects: 65, done.\u001b[K\n",
            "remote: Counting objects: 100% (65/65), done.\u001b[K\n",
            "remote: Compressing objects: 100% (65/65), done.\u001b[K\n",
            "remote: Total 770 (delta 44), reused 0 (delta 0), pack-reused 705\u001b[K\n",
            "Receiving objects: 100% (770/770), 48.19 MiB | 32.00 MiB/s, done.\n",
            "Resolving deltas: 100% (386/386), done.\n",
            "importing Jupyter notebook from /content/MITx---Machine-Learning-with-Python-From-Linear-Models-to-Deep-Learning-Jun-11-2019/setup/Setup.ipynb\n"
          ],
          "name": "stdout"
        },
        {
          "output_type": "display_data",
          "data": {
            "image/png": "[encoded data removed]",
            "text/plain": [
              "<Figure size 432x288 with 20 Axes>"
            ]
          },
          "metadata": {
            "tags": []
          }
        }
      ]
    },
    {
      "cell_type": "markdown",
      "metadata": {
        "id": "q9-EETewelSI",
        "colab_type": "text"
      },
      "source": [
        "## Test Error on Softmax Regression\n",
        "\n"
      ]
    },
    {
      "cell_type": "code",
      "metadata": {
        "id": "qea3Ze9i_1fB",
        "colab_type": "code",
        "colab": {
          "base_uri": "https://localhost:8080/",
          "height": 300
        },
        "outputId": "325f8a09-3be8-4012-a7e7-63eebac7ad28"
      },
      "source": [
        "main.run_softmax_on_MNIST(temp_parameter=1)"
      ],
      "execution_count": 2,
      "outputs": [
        {
          "output_type": "display_data",
          "data": {
            "image/png": "[encoded data removed]",
            "text/plain": [
              "<Figure size 432x288 with 1 Axes>"
            ]
          },
          "metadata": {
            "tags": []
          }
        },
        {
          "output_type": "execute_result",
          "data": {
            "text/plain": [
              "0.10050000000000003"
            ]
          },
          "metadata": {
            "tags": []
          },
          "execution_count": 2
        }
      ]
    }
  ]
}