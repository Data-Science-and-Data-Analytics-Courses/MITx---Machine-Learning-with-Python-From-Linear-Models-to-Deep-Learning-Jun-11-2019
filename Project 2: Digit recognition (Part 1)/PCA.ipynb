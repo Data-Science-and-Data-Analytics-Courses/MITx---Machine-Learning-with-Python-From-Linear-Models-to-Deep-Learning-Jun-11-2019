{
  "nbformat": 4,
  "nbformat_minor": 0,
  "metadata": {
    "colab": {
      "name": "PCA.ipynb",
      "version": "0.3.2",
      "provenance": [],
      "collapsed_sections": [],
      "include_colab_link": true
    },
    "kernelspec": {
      "name": "python3",
      "display_name": "Python 3"
    },
    "accelerator": "GPU"
  },
  "cells": [
    {
      "cell_type": "markdown",
      "metadata": {
        "id": "view-in-github",
        "colab_type": "text"
      },
      "source": [
        "<a href=\"https://colab.research.google.com/github/Data-Science-and-Data-Analytics-Courses/MITx---Machine-Learning-with-Python-From-Linear-Models-to-Deep-Learning-Jun-11-2019/blob/master/Project%202%3A%20Digit%20recognition%20(Part%201)/PCA.ipynb\" target=\"_parent\"><img src=\"https://colab.research.google.com/assets/colab-badge.svg\" alt=\"Open In Colab\"/></a>"
      ]
    },
    {
      "cell_type": "markdown",
      "metadata": {
        "id": "-jKf749g6256",
        "colab_type": "text"
      },
      "source": [
        "# Dimensionality Reduction Using PCA\n",
        "\n",
        "\n",
        "\n",
        "---\n",
        "\n"
      ]
    },
    {
      "cell_type": "markdown",
      "metadata": {
        "id": "LiqX2dH_HnE0",
        "colab_type": "text"
      },
      "source": [
        "## Setup"
      ]
    },
    {
      "cell_type": "code",
      "metadata": {
        "colab_type": "code",
        "id": "Xw3SOTRf9Nz_",
        "outputId": "c0b42d6b-aa7a-41f6-9542-a446c5d25085",
        "colab": {
          "base_uri": "https://localhost:8080/",
          "height": 523
        }
      },
      "source": [
        "import os, sys\n",
        "from pathlib import Path\n",
        "\n",
        "# Notebook Library\n",
        "url = \"https://github.com/Data-Science-and-Data-Analytics-Courses/Notebook-Library\"\n",
        "repo = Path(\"/nblib\")\n",
        "!git clone \"{url}\" \"{repo}\"\n",
        "if repo.parent.as_posix() not in sys.path:\n",
        "  sys.path.append(repo.parent.as_posix())\n",
        "%run \"{repo}/.Importable.ipynb\"\n",
        "\n",
        "from nblib import Git\n",
        "# Remote\n",
        "URL = \"https://github.com/Data-Science-and-Data-Analytics-Courses/MITx---Machine-Learning-with-Python-From-Linear-Models-to-Deep-Learning-Jun-11-2019\"\n",
        "REPO = Git.clone(URL, dest=\"/content\")\n",
        "if REPO.as_posix() not in sys.path:\n",
        "  sys.path.append(REPO.as_posix())\n",
        "\n",
        "# Working directory, for running modules in part1\n",
        "part1dir = REPO / \"Project 2: Digit recognition (Part 1)/mnist/part1\"\n",
        "os.chdir(part1dir)\n",
        "\n",
        "from setup.Setup import *\n",
        "import main, features, test"
      ],
      "execution_count": 1,
      "outputs": [
        {
          "output_type": "stream",
          "text": [
            "Cloning into '/nblib'...\n",
            "remote: Enumerating objects: 32, done.\u001b[K\n",
            "remote: Counting objects: 100% (32/32), done.\u001b[K\n",
            "remote: Compressing objects: 100% (29/29), done.\u001b[K\n",
            "remote: Total 32 (delta 15), reused 7 (delta 2), pack-reused 0\u001b[K\n",
            "Unpacking objects: 100% (32/32), done.\n"
          ],
          "name": "stdout"
        },
        {
          "output_type": "display_data",
          "data": {
            "text/html": [
              "\n",
              "<style type='text/css'>\n",
              ".hll { background-color: #ffffcc }\n",
              ".c { color: #408080; font-style: italic } /* Comment */\n",
              ".err { border: 1px solid #FF0000 } /* Error */\n",
              ".k { color: #008000; font-weight: bold } /* Keyword */\n",
              ".o { color: #666666 } /* Operator */\n",
              ".ch { color: #408080; font-style: italic } /* Comment.Hashbang */\n",
              ".cm { color: #408080; font-style: italic } /* Comment.Multiline */\n",
              ".cp { color: #BC7A00 } /* Comment.Preproc */\n",
              ".cpf { color: #408080; font-style: italic } /* Comment.PreprocFile */\n",
              ".c1 { color: #408080; font-style: italic } /* Comment.Single */\n",
              ".cs { color: #408080; font-style: italic } /* Comment.Special */\n",
              ".gd { color: #A00000 } /* Generic.Deleted */\n",
              ".ge { font-style: italic } /* Generic.Emph */\n",
              ".gr { color: #FF0000 } /* Generic.Error */\n",
              ".gh { color: #000080; font-weight: bold } /* Generic.Heading */\n",
              ".gi { color: #00A000 } /* Generic.Inserted */\n",
              ".go { color: #888888 } /* Generic.Output */\n",
              ".gp { color: #000080; font-weight: bold } /* Generic.Prompt */\n",
              ".gs { font-weight: bold } /* Generic.Strong */\n",
              ".gu { color: #800080; font-weight: bold } /* Generic.Subheading */\n",
              ".gt { color: #0044DD } /* Generic.Traceback */\n",
              ".kc { color: #008000; font-weight: bold } /* Keyword.Constant */\n",
              ".kd { color: #008000; font-weight: bold } /* Keyword.Declaration */\n",
              ".kn { color: #008000; font-weight: bold } /* Keyword.Namespace */\n",
              ".kp { color: #008000 } /* Keyword.Pseudo */\n",
              ".kr { color: #008000; font-weight: bold } /* Keyword.Reserved */\n",
              ".kt { color: #B00040 } /* Keyword.Type */\n",
              ".m { color: #666666 } /* Literal.Number */\n",
              ".s { color: #BA2121 } /* Literal.String */\n",
              ".na { color: #7D9029 } /* Name.Attribute */\n",
              ".nb { color: #008000 } /* Name.Builtin */\n",
              ".nc { color: #0000FF; font-weight: bold } /* Name.Class */\n",
              ".no { color: #880000 } /* Name.Constant */\n",
              ".nd { color: #AA22FF } /* Name.Decorator */\n",
              ".ni { color: #999999; font-weight: bold } /* Name.Entity */\n",
              ".ne { color: #D2413A; font-weight: bold } /* Name.Exception */\n",
              ".nf { color: #0000FF } /* Name.Function */\n",
              ".nl { color: #A0A000 } /* Name.Label */\n",
              ".nn { color: #0000FF; font-weight: bold } /* Name.Namespace */\n",
              ".nt { color: #008000; font-weight: bold } /* Name.Tag */\n",
              ".nv { color: #19177C } /* Name.Variable */\n",
              ".ow { color: #AA22FF; font-weight: bold } /* Operator.Word */\n",
              ".w { color: #bbbbbb } /* Text.Whitespace */\n",
              ".mb { color: #666666 } /* Literal.Number.Bin */\n",
              ".mf { color: #666666 } /* Literal.Number.Float */\n",
              ".mh { color: #666666 } /* Literal.Number.Hex */\n",
              ".mi { color: #666666 } /* Literal.Number.Integer */\n",
              ".mo { color: #666666 } /* Literal.Number.Oct */\n",
              ".sb { color: #BA2121 } /* Literal.String.Backtick */\n",
              ".sc { color: #BA2121 } /* Literal.String.Char */\n",
              ".sd { color: #BA2121; font-style: italic } /* Literal.String.Doc */\n",
              ".s2 { color: #BA2121 } /* Literal.String.Double */\n",
              ".se { color: #BB6622; font-weight: bold } /* Literal.String.Escape */\n",
              ".sh { color: #BA2121 } /* Literal.String.Heredoc */\n",
              ".si { color: #BB6688; font-weight: bold } /* Literal.String.Interpol */\n",
              ".sx { color: #008000 } /* Literal.String.Other */\n",
              ".sr { color: #BB6688 } /* Literal.String.Regex */\n",
              ".s1 { color: #BA2121 } /* Literal.String.Single */\n",
              ".ss { color: #19177C } /* Literal.String.Symbol */\n",
              ".bp { color: #008000 } /* Name.Builtin.Pseudo */\n",
              ".vc { color: #19177C } /* Name.Variable.Class */\n",
              ".vg { color: #19177C } /* Name.Variable.Global */\n",
              ".vi { color: #19177C } /* Name.Variable.Instance */\n",
              ".il { color: #666666 } /* Literal.Number.Integer.Long */\n",
              "</style>\n"
            ],
            "text/plain": [
              "<IPython.core.display.HTML object>"
            ]
          },
          "metadata": {
            "tags": []
          }
        },
        {
          "output_type": "stream",
          "text": [
            "importing Jupyter notebook from /nblib/Git.ipynb\n",
            "Cloning into '/content/MITx---Machine-Learning-with-Python-From-Linear-Models-to-Deep-Learning-Jun-11-2019'...\n",
            "remote: Enumerating objects: 163, done.\u001b[K\n",
            "remote: Counting objects: 100% (163/163), done.\u001b[K\n",
            "remote: Compressing objects: 100% (163/163), done.\u001b[K\n",
            "remote: Total 868 (delta 123), reused 0 (delta 0), pack-reused 705\u001b[K\n",
            "Receiving objects: 100% (868/868), 48.26 MiB | 14.20 MiB/s, done.\n",
            "Resolving deltas: 100% (465/465), done.\n",
            "importing Jupyter notebook from /content/MITx---Machine-Learning-with-Python-From-Linear-Models-to-Deep-Learning-Jun-11-2019/setup/Setup.ipynb\n"
          ],
          "name": "stdout"
        },
        {
          "output_type": "display_data",
          "data": {
            "image/png": "[encoded data removed]",
            "text/plain": [
              "<Figure size 432x288 with 20 Axes>"
            ]
          },
          "metadata": {
            "tags": []
          }
        }
      ]
    },
    {
      "cell_type": "markdown",
      "metadata": {
        "id": "fyMUmgEBogND",
        "colab_type": "text"
      },
      "source": [
        "## Testing PCA\n"
      ]
    },
    {
      "cell_type": "code",
      "metadata": {
        "id": "3qmHHTUkonDm",
        "colab_type": "code",
        "colab": {
          "base_uri": "https://localhost:8080/",
          "height": 300
        },
        "outputId": "72f6d037-b90e-4ae3-f0fd-4a0fe9ec6469"
      },
      "source": [
        "# 18-dimensional PCA features\n",
        "main.run_softmax_on_MNIST_pcs(temp_parameter=1)"
      ],
      "execution_count": 2,
      "outputs": [
        {
          "output_type": "display_data",
          "data": {
            "image/png": "[encoded data removed]",
            "text/plain": [
              "<Figure size 432x288 with 1 Axes>"
            ]
          },
          "metadata": {
            "tags": []
          }
        },
        {
          "output_type": "execute_result",
          "data": {
            "text/plain": [
              "0.1483"
            ]
          },
          "metadata": {
            "tags": []
          },
          "execution_count": 2
        }
      ]
    },
    {
      "cell_type": "markdown",
      "metadata": {
        "id": "oNgEcIxhvt-W",
        "colab_type": "text"
      },
      "source": [
        "Use plot_PC in main.py to visualize the first 100 MNIST images, as represented in the space spanned by the first 2 principal components of the training data.\n",
        "\n"
      ]
    },
    {
      "cell_type": "code",
      "metadata": {
        "id": "ojXFTRq4vuL9",
        "colab_type": "code",
        "colab": {
          "base_uri": "https://localhost:8080/",
          "height": 283
        },
        "outputId": "5731703d-0ecf-4f02-8742-e94d83f7e324"
      },
      "source": [
        "train_x = main.train_x\n",
        "train_y = main.train_y\n",
        "features.plot_PC(train_x[range(100),], main.pcs, train_y[range(100)])"
      ],
      "execution_count": 2,
      "outputs": [
        {
          "output_type": "display_data",
          "data": {
            "image/png": "[encoded data removed]",
            "text/plain": [
              "<Figure size 432x288 with 1 Axes>"
            ]
          },
          "metadata": {
            "tags": []
          }
        }
      ]
    },
    {
      "cell_type": "markdown",
      "metadata": {
        "id": "033pZpYtzelv",
        "colab_type": "text"
      },
      "source": [
        "## Cubic Features\n",
        "In this section, we will work with a cubic feature mapping which maps an input vector  x=[x1,…,xd]  into a new feature vector  ϕ(x) , defined so that for any  x,x′∈Rd :\n",
        "\n",
        "$$\n",
        "\\phi (x)^ T \\phi (x') = (x^ T x' + 1)^3\n",
        "$$\n",
        "\n"
      ]
    },
    {
      "cell_type": "markdown",
      "metadata": {
        "id": "fFz1oaE400vo",
        "colab_type": "text"
      },
      "source": [
        "### Computing Cubic Features\n",
        "In 2-D, let  x=[x1,x2] . Write down the explicit cubic feature mapping  ϕ(x)  as a vector; i.e.,  ϕ(x)=[f1(x1,x2),⋯,fN(x1,x2)]  \n"
      ]
    },
    {
      "cell_type": "code",
      "metadata": {
        "id": "gvBWrlMxzj7L",
        "colab_type": "code",
        "colab": {
          "base_uri": "https://localhost:8080/",
          "height": 289
        },
        "outputId": "53166ea3-ecb2-452f-ccbb-99f4ba51a6c0"
      },
      "source": [
        "x1 = sym.Matrix(sym.symarray('x', (1, 2)))\n",
        "x2 = sym.Matrix(sym.symarray('x`', (1, 2)))\n",
        "sym.pprint(x1)\n",
        "sym.pprint(x2)\n",
        "\n",
        "x1Tx2 = (x1*x2.T)[0, 0]\n",
        "expr = (x1Tx2 + 1)**3 # ϕ(x)Tϕ(x′)\n",
        "sym.pprint(sym.expand(expr))\n",
        "\n",
        "print(\"ϕ(x)\")\n",
        "phix = sym.Matrix()\n",
        "sym.pprint([x1[0,0]**3, sym.sqrt(3)*x1[0,0]**2*x1[0,1], sym.sqrt(3)*x1[0,0]**2,\n",
        "                   sym.sqrt(3)*x1[0,0]*x1[0,1]**2, sym.sqrt(6)*x1[0,0]*x1[0,1], \n",
        "                   sym.sqrt(3)*x1[0,0], x1[0,1]**3, sym.sqrt(3)*x1[0,1]**2, sym.sqrt(3)*x1[0,1], 1])"
      ],
      "execution_count": 49,
      "outputs": [
        {
          "output_type": "stream",
          "text": [
            "[x₀ ₀  x₀ ₁]\n",
            "[x`₀ ₀  x`₀ ₁]\n",
            "    3      3         2           2               2      2              2      \n",
            "x₀ ₀ ⋅x`₀ ₀  + 3⋅x₀ ₀ ⋅x₀ ₁⋅x`₀ ₀ ⋅x`₀ ₁ + 3⋅x₀ ₀ ⋅x`₀ ₀  + 3⋅x₀ ₀⋅x₀ ₁ ⋅x`₀ ₀\n",
            "\n",
            "      2                                                3      3         2     \n",
            "⋅x`₀ ₁  + 6⋅x₀ ₀⋅x₀ ₁⋅x`₀ ₀⋅x`₀ ₁ + 3⋅x₀ ₀⋅x`₀ ₀ + x₀ ₁ ⋅x`₀ ₁  + 3⋅x₀ ₁ ⋅x`₀ \n",
            "\n",
            " 2                   \n",
            "₁  + 3⋅x₀ ₁⋅x`₀ ₁ + 1\n",
            "ϕ(x)\n",
            "⎡    3         2              2              2                             3  \n",
            "⎣x₀ ₀ , √3⋅x₀ ₀ ⋅x₀ ₁, √3⋅x₀ ₀ , √3⋅x₀ ₀⋅x₀ ₁ , √6⋅x₀ ₀⋅x₀ ₁, √3⋅x₀ ₀, x₀ ₁ , \n",
            "\n",
            "       2            ⎤\n",
            "√3⋅x₀ ₁ , √3⋅x₀ ₁, 1⎦\n"
          ],
          "name": "stdout"
        }
      ]
    }
  ]
}